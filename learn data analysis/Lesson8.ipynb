{
 "cells": [
  {
   "cell_type": "code",
   "execution_count": 1,
   "metadata": {
    "collapsed": true
   },
   "outputs": [],
   "source": [
    "# Import libraries\n",
    "import pandas as pd\n",
    "import sys\n",
    "from sqlalchemy import create_engine, MetaData, Table, select"
   ]
  },
  {
   "cell_type": "code",
   "execution_count": 2,
   "metadata": {
    "collapsed": false
   },
   "outputs": [
    {
     "name": "stdout",
     "output_type": "stream",
     "text": [
      "Python version 3.5.2 |Anaconda 4.0.0 (32-bit)| (default, Jul  5 2016, 11:45:57) [MSC v.1900 32 bit (Intel)]\n",
      "Pandas version 0.18.0\n"
     ]
    }
   ],
   "source": [
    "print('Python version ' + sys.version)\n",
    "print('Pandas version ' + pd.__version__)"
   ]
  },
  {
   "cell_type": "code",
   "execution_count": 3,
   "metadata": {
    "collapsed": false
   },
   "outputs": [
    {
     "name": "stdout",
     "output_type": "stream",
     "text": [
      "{'customer_id': 1, 'last_update': datetime.datetime(2006, 2, 15, 22, 12, 30), 'payment_id': 1, 'amount': Decimal('2.99'), 'staff_id': 1, 'payment_date': datetime.datetime(2005, 5, 25, 11, 30, 37), 'rental_id': 76}\n",
      "Done\n"
     ]
    }
   ],
   "source": [
    "import pymysql.cursors\n",
    "# Parameters\n",
    "ServerName = \"localhost\"\n",
    "Database = \"Sakila\"\n",
    "TableName = \"payment\"\n",
    "UserName = 'root'\n",
    "PassWord = 'mysql'\n",
    "\n",
    "# Connect to the database\n",
    "conn = pymysql.connect(host=ServerName,\n",
    "                             user=UserName,\n",
    "                             password=PassWord,\n",
    "                             db=Database,\n",
    "                             charset='utf8mb4',\n",
    "                             cursorclass=pymysql.cursors.DictCursor)\n",
    "\n",
    "cur = conn.cursor()\n",
    "# Select all\n",
    "sql = \"SELECT * FROM %s\" % TableName\n",
    "cur.execute(sql)\n",
    "# run sql code\n",
    "result = cur.fetchone()\n",
    "print(result)\n",
    "# Insert to a dataframe\n",
    "# df = pd.DataFrame(data=list(result), columns=result.keys())\n",
    "# Close cur\n",
    "cur.close()\n",
    "# Close connection\n",
    "conn.close()\n",
    "\n",
    "print('Done')"
   ]
  },
  {
   "cell_type": "code",
   "execution_count": null,
   "metadata": {
    "collapsed": true
   },
   "outputs": [],
   "source": []
  }
 ],
 "metadata": {
  "kernelspec": {
   "display_name": "Python 3",
   "language": "python",
   "name": "python3"
  },
  "language_info": {
   "codemirror_mode": {
    "name": "ipython",
    "version": 3
   },
   "file_extension": ".py",
   "mimetype": "text/x-python",
   "name": "python",
   "nbconvert_exporter": "python",
   "pygments_lexer": "ipython3",
   "version": "3.5.2"
  }
 },
 "nbformat": 4,
 "nbformat_minor": 0
}
