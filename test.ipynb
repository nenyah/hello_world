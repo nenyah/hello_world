{
 "cells": [
  {
   "cell_type": "code",
   "execution_count": 1,
   "metadata": {
    "collapsed": true
   },
   "outputs": [],
   "source": [
    "from pandas import Series, DataFrame\n",
    "import pandas as pd"
   ]
  },
  {
   "cell_type": "code",
   "execution_count": 30,
   "metadata": {
    "collapsed": true
   },
   "outputs": [],
   "source": [
    "data = pd.read_excel(r'E:\\Work\\06-Work\\00-Todo\\退款汇总\\201607\\NH#20160625_20160725_post_sale_refund.xls',encoding='cp2312',header=2)"
   ]
  },
  {
   "cell_type": "code",
   "execution_count": 31,
   "metadata": {
    "collapsed": false
   },
   "outputs": [
    {
     "data": {
      "text/html": [
       "<div>\n",
       "<table border=\"1\" class=\"dataframe\">\n",
       "  <thead>\n",
       "    <tr style=\"text-align: right;\">\n",
       "      <th></th>\n",
       "      <th>退款时间</th>\n",
       "      <th>订单号</th>\n",
       "      <th>订单支付时间</th>\n",
       "      <th>商品ID</th>\n",
       "      <th>商品名称</th>\n",
       "      <th>订单金额</th>\n",
       "      <th>本次订单退款总额</th>\n",
       "      <th>平台佣金退款金额</th>\n",
       "      <th>联盟佣金退款金额</th>\n",
       "      <th>本次卖家退款金额</th>\n",
       "      <th>退款币种</th>\n",
       "      <th>退款导致保证金变动</th>\n",
       "      <th>退款产生速卖通平台垫资</th>\n",
       "      <th>备注</th>\n",
       "    </tr>\n",
       "  </thead>\n",
       "  <tbody>\n",
       "    <tr>\n",
       "      <th>NaN</th>\n",
       "      <td>2016-07-24 23:37:25</td>\n",
       "      <td>75295572598634</td>\n",
       "      <td>2016-05-13 19:25:20</td>\n",
       "      <td>1592970107</td>\n",
       "      <td>[NaturalHome] Brand Cycling Glasses Bicycle Bi...</td>\n",
       "      <td>USD 9.88</td>\n",
       "      <td>USD -9.88</td>\n",
       "      <td>USD -0.49</td>\n",
       "      <td>USD 0.00</td>\n",
       "      <td>USD -9.39</td>\n",
       "      <td>USD</td>\n",
       "      <td>USD 0.00</td>\n",
       "      <td>USD 0.00</td>\n",
       "      <td>—</td>\n",
       "    </tr>\n",
       "    <tr>\n",
       "      <th>NaN</th>\n",
       "      <td>2016-07-24 05:00:09</td>\n",
       "      <td>76101125200084</td>\n",
       "      <td>2016-06-16 08:23:24</td>\n",
       "      <td>32238331771</td>\n",
       "      <td>[NaturalHome] Brand Outdoor Hiking Trekking Bo...</td>\n",
       "      <td>USD 43.19</td>\n",
       "      <td>CNY -282.42</td>\n",
       "      <td>CNY -14.12</td>\n",
       "      <td>CNY -12.75</td>\n",
       "      <td>CNY -255.55</td>\n",
       "      <td>CNY</td>\n",
       "      <td>USD 0.00</td>\n",
       "      <td>USD 0.00</td>\n",
       "      <td>—</td>\n",
       "    </tr>\n",
       "    <tr>\n",
       "      <th>NaN</th>\n",
       "      <td>2016-07-24 02:52:23</td>\n",
       "      <td>76065682508572</td>\n",
       "      <td>2016-06-15 00:53:07</td>\n",
       "      <td>32597128930</td>\n",
       "      <td>[NaturalHome] Brand 2016 Autumn Children Shoes...</td>\n",
       "      <td>USD 13.58</td>\n",
       "      <td>USD -13.58</td>\n",
       "      <td>USD -0.68</td>\n",
       "      <td>USD 0.00</td>\n",
       "      <td>USD -12.90</td>\n",
       "      <td>USD</td>\n",
       "      <td>USD 0.00</td>\n",
       "      <td>USD 0.00</td>\n",
       "      <td>—</td>\n",
       "    </tr>\n",
       "    <tr>\n",
       "      <th>NaN</th>\n",
       "      <td>2016-07-23 22:40:10</td>\n",
       "      <td>74646821174173</td>\n",
       "      <td>2016-04-19 00:15:23</td>\n",
       "      <td>2034029137</td>\n",
       "      <td>[NaturalHome] Brand Winter Waterproof Shoes Wo...</td>\n",
       "      <td>USD 32.83</td>\n",
       "      <td>USD -32.83</td>\n",
       "      <td>USD -1.64</td>\n",
       "      <td>USD 0.00</td>\n",
       "      <td>USD -31.19</td>\n",
       "      <td>USD</td>\n",
       "      <td>USD 0.00</td>\n",
       "      <td>USD 0.00</td>\n",
       "      <td>—</td>\n",
       "    </tr>\n",
       "    <tr>\n",
       "      <th>NaN</th>\n",
       "      <td>2016-07-23 07:28:07</td>\n",
       "      <td>76133943841223</td>\n",
       "      <td>2016-06-17 04:12:28</td>\n",
       "      <td>32671722985</td>\n",
       "      <td>[NaturalHome] Brand Children LED Light Shoes L...</td>\n",
       "      <td>USD 23.07</td>\n",
       "      <td>USD -23.07</td>\n",
       "      <td>USD -1.15</td>\n",
       "      <td>USD -1.15</td>\n",
       "      <td>USD -20.77</td>\n",
       "      <td>USD</td>\n",
       "      <td>USD 0.00</td>\n",
       "      <td>USD 0.00</td>\n",
       "      <td>—</td>\n",
       "    </tr>\n",
       "  </tbody>\n",
       "</table>\n",
       "</div>"
      ],
      "text/plain": [
       "                    退款时间             订单号               订单支付时间         商品ID  \\\n",
       "NaN  2016-07-24 23:37:25  75295572598634  2016-05-13 19:25:20   1592970107   \n",
       "NaN  2016-07-24 05:00:09  76101125200084  2016-06-16 08:23:24  32238331771   \n",
       "NaN  2016-07-24 02:52:23  76065682508572  2016-06-15 00:53:07  32597128930   \n",
       "NaN  2016-07-23 22:40:10  74646821174173  2016-04-19 00:15:23   2034029137   \n",
       "NaN  2016-07-23 07:28:07  76133943841223  2016-06-17 04:12:28  32671722985   \n",
       "\n",
       "                                                  商品名称       订单金额  \\\n",
       "NaN  [NaturalHome] Brand Cycling Glasses Bicycle Bi...   USD 9.88   \n",
       "NaN  [NaturalHome] Brand Outdoor Hiking Trekking Bo...  USD 43.19   \n",
       "NaN  [NaturalHome] Brand 2016 Autumn Children Shoes...  USD 13.58   \n",
       "NaN  [NaturalHome] Brand Winter Waterproof Shoes Wo...  USD 32.83   \n",
       "NaN  [NaturalHome] Brand Children LED Light Shoes L...  USD 23.07   \n",
       "\n",
       "        本次订单退款总额    平台佣金退款金额    联盟佣金退款金额     本次卖家退款金额 退款币种 退款导致保证金变动  \\\n",
       "NaN    USD -9.88   USD -0.49    USD 0.00    USD -9.39  USD  USD 0.00   \n",
       "NaN  CNY -282.42  CNY -14.12  CNY -12.75  CNY -255.55  CNY  USD 0.00   \n",
       "NaN   USD -13.58   USD -0.68    USD 0.00   USD -12.90  USD  USD 0.00   \n",
       "NaN   USD -32.83   USD -1.64    USD 0.00   USD -31.19  USD  USD 0.00   \n",
       "NaN   USD -23.07   USD -1.15   USD -1.15   USD -20.77  USD  USD 0.00   \n",
       "\n",
       "    退款产生速卖通平台垫资 备注  \n",
       "NaN    USD 0.00  —  \n",
       "NaN    USD 0.00  —  \n",
       "NaN    USD 0.00  —  \n",
       "NaN    USD 0.00  —  \n",
       "NaN    USD 0.00  —  "
      ]
     },
     "execution_count": 31,
     "metadata": {},
     "output_type": "execute_result"
    }
   ],
   "source": [
    "data.head()"
   ]
  },
  {
   "cell_type": "code",
   "execution_count": 33,
   "metadata": {
    "collapsed": false
   },
   "outputs": [],
   "source": [
    "data['币种'] = [x.split()[0] for x in data['本次卖家退款金额']]\n",
    "data['金额'] = [x.split()[-1] for x in data['本次卖家退款金额']]"
   ]
  },
  {
   "cell_type": "code",
   "execution_count": 34,
   "metadata": {
    "collapsed": false
   },
   "outputs": [
    {
     "data": {
      "text/html": [
       "<div>\n",
       "<table border=\"1\" class=\"dataframe\">\n",
       "  <thead>\n",
       "    <tr style=\"text-align: right;\">\n",
       "      <th></th>\n",
       "      <th>退款时间</th>\n",
       "      <th>订单号</th>\n",
       "      <th>订单支付时间</th>\n",
       "      <th>商品ID</th>\n",
       "      <th>商品名称</th>\n",
       "      <th>订单金额</th>\n",
       "      <th>本次订单退款总额</th>\n",
       "      <th>平台佣金退款金额</th>\n",
       "      <th>联盟佣金退款金额</th>\n",
       "      <th>本次卖家退款金额</th>\n",
       "      <th>退款币种</th>\n",
       "      <th>退款导致保证金变动</th>\n",
       "      <th>退款产生速卖通平台垫资</th>\n",
       "      <th>备注</th>\n",
       "      <th>币种</th>\n",
       "      <th>金额</th>\n",
       "    </tr>\n",
       "  </thead>\n",
       "  <tbody>\n",
       "    <tr>\n",
       "      <th>NaN</th>\n",
       "      <td>2016-07-24 23:37:25</td>\n",
       "      <td>75295572598634</td>\n",
       "      <td>2016-05-13 19:25:20</td>\n",
       "      <td>1592970107</td>\n",
       "      <td>[NaturalHome] Brand Cycling Glasses Bicycle Bi...</td>\n",
       "      <td>USD 9.88</td>\n",
       "      <td>USD -9.88</td>\n",
       "      <td>USD -0.49</td>\n",
       "      <td>USD 0.00</td>\n",
       "      <td>USD -9.39</td>\n",
       "      <td>USD</td>\n",
       "      <td>USD 0.00</td>\n",
       "      <td>USD 0.00</td>\n",
       "      <td>—</td>\n",
       "      <td>USD</td>\n",
       "      <td>-9.39</td>\n",
       "    </tr>\n",
       "    <tr>\n",
       "      <th>NaN</th>\n",
       "      <td>2016-07-24 05:00:09</td>\n",
       "      <td>76101125200084</td>\n",
       "      <td>2016-06-16 08:23:24</td>\n",
       "      <td>32238331771</td>\n",
       "      <td>[NaturalHome] Brand Outdoor Hiking Trekking Bo...</td>\n",
       "      <td>USD 43.19</td>\n",
       "      <td>CNY -282.42</td>\n",
       "      <td>CNY -14.12</td>\n",
       "      <td>CNY -12.75</td>\n",
       "      <td>CNY -255.55</td>\n",
       "      <td>CNY</td>\n",
       "      <td>USD 0.00</td>\n",
       "      <td>USD 0.00</td>\n",
       "      <td>—</td>\n",
       "      <td>CNY</td>\n",
       "      <td>-255.55</td>\n",
       "    </tr>\n",
       "    <tr>\n",
       "      <th>NaN</th>\n",
       "      <td>2016-07-24 02:52:23</td>\n",
       "      <td>76065682508572</td>\n",
       "      <td>2016-06-15 00:53:07</td>\n",
       "      <td>32597128930</td>\n",
       "      <td>[NaturalHome] Brand 2016 Autumn Children Shoes...</td>\n",
       "      <td>USD 13.58</td>\n",
       "      <td>USD -13.58</td>\n",
       "      <td>USD -0.68</td>\n",
       "      <td>USD 0.00</td>\n",
       "      <td>USD -12.90</td>\n",
       "      <td>USD</td>\n",
       "      <td>USD 0.00</td>\n",
       "      <td>USD 0.00</td>\n",
       "      <td>—</td>\n",
       "      <td>USD</td>\n",
       "      <td>-12.90</td>\n",
       "    </tr>\n",
       "    <tr>\n",
       "      <th>NaN</th>\n",
       "      <td>2016-07-23 22:40:10</td>\n",
       "      <td>74646821174173</td>\n",
       "      <td>2016-04-19 00:15:23</td>\n",
       "      <td>2034029137</td>\n",
       "      <td>[NaturalHome] Brand Winter Waterproof Shoes Wo...</td>\n",
       "      <td>USD 32.83</td>\n",
       "      <td>USD -32.83</td>\n",
       "      <td>USD -1.64</td>\n",
       "      <td>USD 0.00</td>\n",
       "      <td>USD -31.19</td>\n",
       "      <td>USD</td>\n",
       "      <td>USD 0.00</td>\n",
       "      <td>USD 0.00</td>\n",
       "      <td>—</td>\n",
       "      <td>USD</td>\n",
       "      <td>-31.19</td>\n",
       "    </tr>\n",
       "    <tr>\n",
       "      <th>NaN</th>\n",
       "      <td>2016-07-23 07:28:07</td>\n",
       "      <td>76133943841223</td>\n",
       "      <td>2016-06-17 04:12:28</td>\n",
       "      <td>32671722985</td>\n",
       "      <td>[NaturalHome] Brand Children LED Light Shoes L...</td>\n",
       "      <td>USD 23.07</td>\n",
       "      <td>USD -23.07</td>\n",
       "      <td>USD -1.15</td>\n",
       "      <td>USD -1.15</td>\n",
       "      <td>USD -20.77</td>\n",
       "      <td>USD</td>\n",
       "      <td>USD 0.00</td>\n",
       "      <td>USD 0.00</td>\n",
       "      <td>—</td>\n",
       "      <td>USD</td>\n",
       "      <td>-20.77</td>\n",
       "    </tr>\n",
       "  </tbody>\n",
       "</table>\n",
       "</div>"
      ],
      "text/plain": [
       "                    退款时间             订单号               订单支付时间         商品ID  \\\n",
       "NaN  2016-07-24 23:37:25  75295572598634  2016-05-13 19:25:20   1592970107   \n",
       "NaN  2016-07-24 05:00:09  76101125200084  2016-06-16 08:23:24  32238331771   \n",
       "NaN  2016-07-24 02:52:23  76065682508572  2016-06-15 00:53:07  32597128930   \n",
       "NaN  2016-07-23 22:40:10  74646821174173  2016-04-19 00:15:23   2034029137   \n",
       "NaN  2016-07-23 07:28:07  76133943841223  2016-06-17 04:12:28  32671722985   \n",
       "\n",
       "                                                  商品名称       订单金额  \\\n",
       "NaN  [NaturalHome] Brand Cycling Glasses Bicycle Bi...   USD 9.88   \n",
       "NaN  [NaturalHome] Brand Outdoor Hiking Trekking Bo...  USD 43.19   \n",
       "NaN  [NaturalHome] Brand 2016 Autumn Children Shoes...  USD 13.58   \n",
       "NaN  [NaturalHome] Brand Winter Waterproof Shoes Wo...  USD 32.83   \n",
       "NaN  [NaturalHome] Brand Children LED Light Shoes L...  USD 23.07   \n",
       "\n",
       "        本次订单退款总额    平台佣金退款金额    联盟佣金退款金额     本次卖家退款金额 退款币种 退款导致保证金变动  \\\n",
       "NaN    USD -9.88   USD -0.49    USD 0.00    USD -9.39  USD  USD 0.00   \n",
       "NaN  CNY -282.42  CNY -14.12  CNY -12.75  CNY -255.55  CNY  USD 0.00   \n",
       "NaN   USD -13.58   USD -0.68    USD 0.00   USD -12.90  USD  USD 0.00   \n",
       "NaN   USD -32.83   USD -1.64    USD 0.00   USD -31.19  USD  USD 0.00   \n",
       "NaN   USD -23.07   USD -1.15   USD -1.15   USD -20.77  USD  USD 0.00   \n",
       "\n",
       "    退款产生速卖通平台垫资 备注   币种       金额  \n",
       "NaN    USD 0.00  —  USD    -9.39  \n",
       "NaN    USD 0.00  —  CNY  -255.55  \n",
       "NaN    USD 0.00  —  USD   -12.90  \n",
       "NaN    USD 0.00  —  USD   -31.19  \n",
       "NaN    USD 0.00  —  USD   -20.77  "
      ]
     },
     "execution_count": 34,
     "metadata": {},
     "output_type": "execute_result"
    }
   ],
   "source": [
    "data.head()"
   ]
  },
  {
   "cell_type": "code",
   "execution_count": 36,
   "metadata": {
    "collapsed": false
   },
   "outputs": [
    {
     "data": {
      "text/html": [
       "<div>\n",
       "<table border=\"1\" class=\"dataframe\">\n",
       "  <thead>\n",
       "    <tr style=\"text-align: right;\">\n",
       "      <th></th>\n",
       "      <th>订单号</th>\n",
       "      <th>商品ID</th>\n",
       "    </tr>\n",
       "    <tr>\n",
       "      <th>币种</th>\n",
       "      <th></th>\n",
       "      <th></th>\n",
       "    </tr>\n",
       "  </thead>\n",
       "  <tbody>\n",
       "    <tr>\n",
       "      <th>CNY</th>\n",
       "      <td>525247454768620</td>\n",
       "      <td>227706599090</td>\n",
       "    </tr>\n",
       "    <tr>\n",
       "      <th>USD</th>\n",
       "      <td>7792834295412635</td>\n",
       "      <td>3079669356342</td>\n",
       "    </tr>\n",
       "  </tbody>\n",
       "</table>\n",
       "</div>"
      ],
      "text/plain": [
       "                  订单号           商品ID\n",
       "币种                                  \n",
       "CNY   525247454768620   227706599090\n",
       "USD  7792834295412635  3079669356342"
      ]
     },
     "execution_count": 36,
     "metadata": {},
     "output_type": "execute_result"
    }
   ],
   "source": [
    "data.groupby('币种').sum()"
   ]
  },
  {
   "cell_type": "code",
   "execution_count": 37,
   "metadata": {
    "collapsed": false
   },
   "outputs": [
    {
     "data": {
      "text/html": [
       "<div>\n",
       "<table border=\"1\" class=\"dataframe\">\n",
       "  <thead>\n",
       "    <tr style=\"text-align: right;\">\n",
       "      <th></th>\n",
       "      <th>订单号</th>\n",
       "      <th>商品ID</th>\n",
       "    </tr>\n",
       "  </thead>\n",
       "  <tbody>\n",
       "    <tr>\n",
       "      <th>count</th>\n",
       "      <td>1.110000e+02</td>\n",
       "      <td>1.110000e+02</td>\n",
       "    </tr>\n",
       "    <tr>\n",
       "      <th>mean</th>\n",
       "      <td>7.493767e+13</td>\n",
       "      <td>2.979618e+10</td>\n",
       "    </tr>\n",
       "    <tr>\n",
       "      <th>std</th>\n",
       "      <td>6.617010e+11</td>\n",
       "      <td>8.834943e+09</td>\n",
       "    </tr>\n",
       "    <tr>\n",
       "      <th>min</th>\n",
       "      <td>7.340733e+13</td>\n",
       "      <td>1.387559e+09</td>\n",
       "    </tr>\n",
       "    <tr>\n",
       "      <th>25%</th>\n",
       "      <td>7.449541e+13</td>\n",
       "      <td>3.258023e+10</td>\n",
       "    </tr>\n",
       "    <tr>\n",
       "      <th>50%</th>\n",
       "      <td>7.476491e+13</td>\n",
       "      <td>3.259194e+10</td>\n",
       "    </tr>\n",
       "    <tr>\n",
       "      <th>75%</th>\n",
       "      <td>7.543644e+13</td>\n",
       "      <td>3.259836e+10</td>\n",
       "    </tr>\n",
       "    <tr>\n",
       "      <th>max</th>\n",
       "      <td>7.638839e+13</td>\n",
       "      <td>3.267172e+10</td>\n",
       "    </tr>\n",
       "  </tbody>\n",
       "</table>\n",
       "</div>"
      ],
      "text/plain": [
       "                订单号          商品ID\n",
       "count  1.110000e+02  1.110000e+02\n",
       "mean   7.493767e+13  2.979618e+10\n",
       "std    6.617010e+11  8.834943e+09\n",
       "min    7.340733e+13  1.387559e+09\n",
       "25%    7.449541e+13  3.258023e+10\n",
       "50%    7.476491e+13  3.259194e+10\n",
       "75%    7.543644e+13  3.259836e+10\n",
       "max    7.638839e+13  3.267172e+10"
      ]
     },
     "execution_count": 37,
     "metadata": {},
     "output_type": "execute_result"
    }
   ],
   "source": [
    "data.describe()"
   ]
  },
  {
   "cell_type": "code",
   "execution_count": 38,
   "metadata": {
    "collapsed": false
   },
   "outputs": [
    {
     "name": "stdout",
     "output_type": "stream",
     "text": [
      "<class 'pandas.core.frame.DataFrame'>\n",
      "Float64Index: 111 entries, nan to nan\n",
      "Data columns (total 16 columns):\n",
      "退款时间           111 non-null object\n",
      "订单号            111 non-null int64\n",
      "订单支付时间         111 non-null object\n",
      "商品ID           111 non-null int64\n",
      "商品名称           111 non-null object\n",
      "订单金额           111 non-null object\n",
      "本次订单退款总额       111 non-null object\n",
      "平台佣金退款金额       111 non-null object\n",
      "联盟佣金退款金额       111 non-null object\n",
      "本次卖家退款金额       111 non-null object\n",
      "退款币种           111 non-null object\n",
      "退款导致保证金变动      111 non-null object\n",
      "退款产生速卖通平台垫资    111 non-null object\n",
      "备注             111 non-null object\n",
      "币种             111 non-null object\n",
      "金额             111 non-null object\n",
      "dtypes: int64(2), object(14)\n",
      "memory usage: 8.7+ KB\n"
     ]
    }
   ],
   "source": [
    "data.info()"
   ]
  },
  {
   "cell_type": "code",
   "execution_count": 40,
   "metadata": {
    "collapsed": false
   },
   "outputs": [],
   "source": [
    "data['金额'] = [float(x) for x in data['金额']]"
   ]
  },
  {
   "cell_type": "code",
   "execution_count": 41,
   "metadata": {
    "collapsed": false
   },
   "outputs": [
    {
     "name": "stdout",
     "output_type": "stream",
     "text": [
      "<class 'pandas.core.frame.DataFrame'>\n",
      "Float64Index: 111 entries, nan to nan\n",
      "Data columns (total 16 columns):\n",
      "退款时间           111 non-null object\n",
      "订单号            111 non-null int64\n",
      "订单支付时间         111 non-null object\n",
      "商品ID           111 non-null int64\n",
      "商品名称           111 non-null object\n",
      "订单金额           111 non-null object\n",
      "本次订单退款总额       111 non-null object\n",
      "平台佣金退款金额       111 non-null object\n",
      "联盟佣金退款金额       111 non-null object\n",
      "本次卖家退款金额       111 non-null object\n",
      "退款币种           111 non-null object\n",
      "退款导致保证金变动      111 non-null object\n",
      "退款产生速卖通平台垫资    111 non-null object\n",
      "备注             111 non-null object\n",
      "币种             111 non-null object\n",
      "金额             111 non-null float64\n",
      "dtypes: float64(1), int64(2), object(13)\n",
      "memory usage: 9.1+ KB\n"
     ]
    }
   ],
   "source": [
    "data.info()"
   ]
  },
  {
   "cell_type": "code",
   "execution_count": 42,
   "metadata": {
    "collapsed": false
   },
   "outputs": [
    {
     "data": {
      "text/html": [
       "<div>\n",
       "<table border=\"1\" class=\"dataframe\">\n",
       "  <thead>\n",
       "    <tr style=\"text-align: right;\">\n",
       "      <th></th>\n",
       "      <th>订单号</th>\n",
       "      <th>商品ID</th>\n",
       "      <th>金额</th>\n",
       "    </tr>\n",
       "    <tr>\n",
       "      <th>币种</th>\n",
       "      <th></th>\n",
       "      <th></th>\n",
       "      <th></th>\n",
       "    </tr>\n",
       "  </thead>\n",
       "  <tbody>\n",
       "    <tr>\n",
       "      <th>CNY</th>\n",
       "      <td>525247454768620</td>\n",
       "      <td>227706599090</td>\n",
       "      <td>-962.38</td>\n",
       "    </tr>\n",
       "    <tr>\n",
       "      <th>USD</th>\n",
       "      <td>7792834295412635</td>\n",
       "      <td>3079669356342</td>\n",
       "      <td>-1500.63</td>\n",
       "    </tr>\n",
       "  </tbody>\n",
       "</table>\n",
       "</div>"
      ],
      "text/plain": [
       "                  订单号           商品ID       金额\n",
       "币种                                           \n",
       "CNY   525247454768620   227706599090  -962.38\n",
       "USD  7792834295412635  3079669356342 -1500.63"
      ]
     },
     "execution_count": 42,
     "metadata": {},
     "output_type": "execute_result"
    }
   ],
   "source": [
    "data.groupby('币种').sum()"
   ]
  },
  {
   "cell_type": "code",
   "execution_count": null,
   "metadata": {
    "collapsed": true
   },
   "outputs": [],
   "source": []
  }
 ],
 "metadata": {
  "kernelspec": {
   "display_name": "Python 3",
   "language": "python",
   "name": "python3"
  },
  "language_info": {
   "codemirror_mode": {
    "name": "ipython",
    "version": 3
   },
   "file_extension": ".py",
   "mimetype": "text/x-python",
   "name": "python",
   "nbconvert_exporter": "python",
   "pygments_lexer": "ipython3",
   "version": "3.5.1"
  }
 },
 "nbformat": 4,
 "nbformat_minor": 0
}
