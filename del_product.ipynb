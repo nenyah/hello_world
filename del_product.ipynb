{
 "cells": [
  {
   "cell_type": "code",
   "execution_count": 1,
   "metadata": {
    "collapsed": false
   },
   "outputs": [
    {
     "name": "stdout",
     "output_type": "stream",
     "text": [
      "Using matplotlib backend: TkAgg\n",
      "Populating the interactive namespace from numpy and matplotlib\n"
     ]
    }
   ],
   "source": [
    "import pandas as pd\n",
    "from pandas import DataFrame\n",
    "%pylab"
   ]
  },
  {
   "cell_type": "code",
   "execution_count": 2,
   "metadata": {
    "collapsed": true
   },
   "outputs": [],
   "source": [
    "import re"
   ]
  },
  {
   "cell_type": "code",
   "execution_count": 3,
   "metadata": {
    "collapsed": true
   },
   "outputs": [],
   "source": [
    "path = r\"F:\\workspace\\GoodsExport.xls\""
   ]
  },
  {
   "cell_type": "code",
   "execution_count": 4,
   "metadata": {
    "collapsed": false
   },
   "outputs": [
    {
     "name": "stdout",
     "output_type": "stream",
     "text": [
      "WARNING *** file size (848955) not 512 + multiple of sector size (512)\n"
     ]
    }
   ],
   "source": [
    "df = pd.read_excel(path)"
   ]
  },
  {
   "cell_type": "code",
   "execution_count": 5,
   "metadata": {
    "collapsed": false
   },
   "outputs": [
    {
     "data": {
      "text/html": [
       "<div>\n",
       "<table border=\"1\" class=\"dataframe\">\n",
       "  <thead>\n",
       "    <tr style=\"text-align: right;\">\n",
       "      <th></th>\n",
       "      <th>编号</th>\n",
       "      <th>商品Logo</th>\n",
       "      <th>平台商品标识</th>\n",
       "      <th>平台商品名称</th>\n",
       "      <th>关联产品名称</th>\n",
       "      <th>关联产品SKU</th>\n",
       "      <th>最近同步时间</th>\n",
       "      <th>店铺名</th>\n",
       "      <th>已确认</th>\n",
       "    </tr>\n",
       "  </thead>\n",
       "  <tbody>\n",
       "    <tr>\n",
       "      <th>0</th>\n",
       "      <td>78511</td>\n",
       "      <td>http://img.vip.alibaba.com/img/wsproduct/sku/3...</td>\n",
       "      <td>32313411005-Yellow-BPXM002</td>\n",
       "      <td>Free Shipping The New Canvas Shoulder Bag Emoj...</td>\n",
       "      <td>书包</td>\n",
       "      <td>BPXM002Yellow</td>\n",
       "      <td>2015-12-23 14:16:36</td>\n",
       "      <td>EU</td>\n",
       "      <td>是</td>\n",
       "    </tr>\n",
       "    <tr>\n",
       "      <th>1</th>\n",
       "      <td>78510</td>\n",
       "      <td>http://img.vip.alibaba.com/img/wsproduct/sku/3...</td>\n",
       "      <td>32313411005-Red-Rose Red-BPXM002</td>\n",
       "      <td>Free Shipping The New Canvas Shoulder Bag Emoj...</td>\n",
       "      <td>书包</td>\n",
       "      <td>BPXM002RoseRed</td>\n",
       "      <td>2015-12-23 14:16:36</td>\n",
       "      <td>EU</td>\n",
       "      <td>是</td>\n",
       "    </tr>\n",
       "    <tr>\n",
       "      <th>2</th>\n",
       "      <td>78509</td>\n",
       "      <td>http://img.vip.alibaba.com/img/wsproduct/sku/3...</td>\n",
       "      <td>32313411005-Green-BPXM002</td>\n",
       "      <td>Free Shipping The New Canvas Shoulder Bag Emoj...</td>\n",
       "      <td>书包</td>\n",
       "      <td>BPXM002Green</td>\n",
       "      <td>2015-12-23 14:16:36</td>\n",
       "      <td>EU</td>\n",
       "      <td>是</td>\n",
       "    </tr>\n",
       "    <tr>\n",
       "      <th>3</th>\n",
       "      <td>78508</td>\n",
       "      <td>http://img.vip.alibaba.com/img/wsproduct/sku/3...</td>\n",
       "      <td>32313411005-Sky Blue-BPXM002</td>\n",
       "      <td>Free Shipping The New Canvas Shoulder Bag Emoj...</td>\n",
       "      <td>书包</td>\n",
       "      <td>BPXM002SkyBlue</td>\n",
       "      <td>2015-12-23 14:16:36</td>\n",
       "      <td>EU</td>\n",
       "      <td>是</td>\n",
       "    </tr>\n",
       "    <tr>\n",
       "      <th>4</th>\n",
       "      <td>78507</td>\n",
       "      <td>http://img.vip.alibaba.com/img/wsproduct/sku/3...</td>\n",
       "      <td>32313411005-Blue-BPXM002</td>\n",
       "      <td>Free Shipping The New Canvas Shoulder Bag Emoj...</td>\n",
       "      <td>书包</td>\n",
       "      <td>BPXM002Blue</td>\n",
       "      <td>2015-12-23 14:16:36</td>\n",
       "      <td>EU</td>\n",
       "      <td>是</td>\n",
       "    </tr>\n",
       "  </tbody>\n",
       "</table>\n",
       "</div>"
      ],
      "text/plain": [
       "      编号                                             商品Logo  \\\n",
       "0  78511  http://img.vip.alibaba.com/img/wsproduct/sku/3...   \n",
       "1  78510  http://img.vip.alibaba.com/img/wsproduct/sku/3...   \n",
       "2  78509  http://img.vip.alibaba.com/img/wsproduct/sku/3...   \n",
       "3  78508  http://img.vip.alibaba.com/img/wsproduct/sku/3...   \n",
       "4  78507  http://img.vip.alibaba.com/img/wsproduct/sku/3...   \n",
       "\n",
       "                             平台商品标识  \\\n",
       "0        32313411005-Yellow-BPXM002   \n",
       "1  32313411005-Red-Rose Red-BPXM002   \n",
       "2         32313411005-Green-BPXM002   \n",
       "3      32313411005-Sky Blue-BPXM002   \n",
       "4          32313411005-Blue-BPXM002   \n",
       "\n",
       "                                              平台商品名称 关联产品名称         关联产品SKU  \\\n",
       "0  Free Shipping The New Canvas Shoulder Bag Emoj...     书包   BPXM002Yellow   \n",
       "1  Free Shipping The New Canvas Shoulder Bag Emoj...     书包  BPXM002RoseRed   \n",
       "2  Free Shipping The New Canvas Shoulder Bag Emoj...     书包    BPXM002Green   \n",
       "3  Free Shipping The New Canvas Shoulder Bag Emoj...     书包  BPXM002SkyBlue   \n",
       "4  Free Shipping The New Canvas Shoulder Bag Emoj...     书包     BPXM002Blue   \n",
       "\n",
       "               最近同步时间 店铺名 已确认  \n",
       "0 2015-12-23 14:16:36  EU   是  \n",
       "1 2015-12-23 14:16:36  EU   是  \n",
       "2 2015-12-23 14:16:36  EU   是  \n",
       "3 2015-12-23 14:16:36  EU   是  \n",
       "4 2015-12-23 14:16:36  EU   是  "
      ]
     },
     "execution_count": 5,
     "metadata": {},
     "output_type": "execute_result"
    }
   ],
   "source": [
    "df.head()"
   ]
  },
  {
   "cell_type": "code",
   "execution_count": 13,
   "metadata": {
    "collapsed": true
   },
   "outputs": [
    {
     "data": {
      "text/plain": [
       "0        32313411005\n",
       "1        32313411005\n",
       "2        32313411005\n",
       "3        32313411005\n",
       "4        32313411005\n",
       "5        32313411005\n",
       "6        32313411005\n",
       "7        32314452617\n",
       "8        32314452617\n",
       "9        32314452617\n",
       "10       32314452617\n",
       "11       32314452617\n",
       "12      271750654185\n",
       "13      271750654145\n",
       "14      271750654096\n",
       "15      271750605625\n",
       "16      271750603988\n",
       "17      271750603838\n",
       "18               567\n",
       "19             56823\n",
       "20       32400436972\n",
       "21       32400436972\n",
       "22       32400436972\n",
       "23       32400436972\n",
       "24       32400436972\n",
       "25       32400436972\n",
       "26       32400436972\n",
       "27       32400436972\n",
       "28       32400436972\n",
       "29       32400436972\n",
       "            ...     \n",
       "1232     32400432490\n",
       "1233     32400432490\n",
       "1234     32400432490\n",
       "1235     32400432490\n",
       "1236     32400432490\n",
       "1237     32411414836\n",
       "1238      1929224357\n",
       "1239     32256034419\n",
       "1240     32339295229\n",
       "1241      1931411023\n",
       "1242      2046458176\n",
       "1243      2046458176\n",
       "1244      2046458176\n",
       "1245      2046458176\n",
       "1246              00\n",
       "1247       621406630\n",
       "1248       621414433\n",
       "1249       621414451\n",
       "1250       621414451\n",
       "1251     32376487134\n",
       "1252     32411323396\n",
       "1253     32310539924\n",
       "1254     32309796186\n",
       "1255     32374755747\n",
       "1256     32346458613\n",
       "1257     32294803717\n",
       "1258     32294803717\n",
       "1259     32294803717\n",
       "1260     32294803717\n",
       "1261    322251150689\n",
       "Name: 平台商品标识, dtype: object"
      ]
     },
     "execution_count": 13,
     "metadata": {},
     "output_type": "execute_result"
    }
   ],
   "source": [
    "df['平台商品标识'].map(lambda x: re.search(r'(\\d+)', x).group(1))"
   ]
  },
  {
   "cell_type": "code",
   "execution_count": 20,
   "metadata": {
    "collapsed": false
   },
   "outputs": [],
   "source": [
    "df = df[df['店铺名'].map(lambda x: x not in ['Amazon NH','Wish','babysafety2015'])]"
   ]
  },
  {
   "cell_type": "code",
   "execution_count": 21,
   "metadata": {
    "collapsed": true
   },
   "outputs": [
    {
     "data": {
      "text/plain": [
       "0        32313411005\n",
       "1        32313411005\n",
       "2        32313411005\n",
       "3        32313411005\n",
       "4        32313411005\n",
       "5        32313411005\n",
       "6        32313411005\n",
       "7        32314452617\n",
       "8        32314452617\n",
       "9        32314452617\n",
       "10       32314452617\n",
       "11       32314452617\n",
       "12      271750654185\n",
       "13      271750654145\n",
       "14      271750654096\n",
       "15      271750605625\n",
       "16      271750603988\n",
       "17      271750603838\n",
       "20       32400436972\n",
       "21       32400436972\n",
       "22       32400436972\n",
       "23       32400436972\n",
       "24       32400436972\n",
       "25       32400436972\n",
       "26       32400436972\n",
       "27       32400436972\n",
       "28       32400436972\n",
       "29       32400436972\n",
       "30       32400436972\n",
       "31       32400436972\n",
       "            ...     \n",
       "1230     32400432490\n",
       "1231     32400432490\n",
       "1232     32400432490\n",
       "1233     32400432490\n",
       "1234     32400432490\n",
       "1235     32400432490\n",
       "1236     32400432490\n",
       "1237     32411414836\n",
       "1238      1929224357\n",
       "1239     32256034419\n",
       "1240     32339295229\n",
       "1241      1931411023\n",
       "1242      2046458176\n",
       "1243      2046458176\n",
       "1244      2046458176\n",
       "1245      2046458176\n",
       "1247       621406630\n",
       "1248       621414433\n",
       "1249       621414451\n",
       "1250       621414451\n",
       "1251     32376487134\n",
       "1252     32411323396\n",
       "1253     32310539924\n",
       "1254     32309796186\n",
       "1255     32374755747\n",
       "1256     32346458613\n",
       "1257     32294803717\n",
       "1258     32294803717\n",
       "1259     32294803717\n",
       "1260     32294803717\n",
       "Name: 平台商品标识, dtype: object"
      ]
     },
     "execution_count": 21,
     "metadata": {},
     "output_type": "execute_result"
    }
   ],
   "source": [
    "df['平台商品标识'].map(lambda x: re.search(r'(\\d+)', x).group(1))"
   ]
  },
  {
   "cell_type": "code",
   "execution_count": 24,
   "metadata": {
    "collapsed": true
   },
   "outputs": [],
   "source": [
    "import requests\n",
    "def check_exist(row):\n",
    "    pid = re.search(r'(\\d+)', row).group(1)\n",
    "    url = 'https://www.aliexpress.com/item/{0}/{0}.html'.format(str(pid))\n",
    "    r = requests.get(url)\n",
    "    return True if r.status_code == 404 else False"
   ]
  },
  {
   "cell_type": "code",
   "execution_count": 25,
   "metadata": {
    "collapsed": false
   },
   "outputs": [],
   "source": [
    "df['not_exist'] = df['平台商品标识'].map(check_exist)"
   ]
  },
  {
   "cell_type": "code",
   "execution_count": null,
   "metadata": {
    "collapsed": true
   },
   "outputs": [],
   "source": []
  }
 ],
 "metadata": {
  "kernelspec": {
   "display_name": "Python 3",
   "language": "python",
   "name": "python3"
  },
  "language_info": {
   "codemirror_mode": {
    "name": "ipython",
    "version": 3
   },
   "file_extension": ".py",
   "mimetype": "text/x-python",
   "name": "python",
   "nbconvert_exporter": "python",
   "pygments_lexer": "ipython3",
   "version": "3.5.1"
  }
 },
 "nbformat": 4,
 "nbformat_minor": 0
}
