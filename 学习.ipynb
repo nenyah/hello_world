{
 "cells": [
  {
   "cell_type": "code",
   "execution_count": 1,
   "metadata": {
    "collapsed": true
   },
   "outputs": [],
   "source": [
    "import pandas as pd, numpy as np\n",
    "dates = pd.date_range('20130101', periods=6)\n",
    "df = pd.DataFrame(np.random.randn(6,4), index=dates, columns=list('ABCD'))"
   ]
  },
  {
   "cell_type": "code",
   "execution_count": 2,
   "metadata": {
    "collapsed": false
   },
   "outputs": [
    {
     "data": {
      "text/html": [
       "<div>\n",
       "<table border=\"1\" class=\"dataframe\">\n",
       "  <thead>\n",
       "    <tr style=\"text-align: right;\">\n",
       "      <th></th>\n",
       "      <th>A</th>\n",
       "      <th>B</th>\n",
       "      <th>C</th>\n",
       "      <th>D</th>\n",
       "    </tr>\n",
       "  </thead>\n",
       "  <tbody>\n",
       "    <tr>\n",
       "      <th>2013-01-01</th>\n",
       "      <td>0.089381</td>\n",
       "      <td>-0.656287</td>\n",
       "      <td>-0.807773</td>\n",
       "      <td>0.550668</td>\n",
       "    </tr>\n",
       "    <tr>\n",
       "      <th>2013-01-02</th>\n",
       "      <td>1.277700</td>\n",
       "      <td>-1.119743</td>\n",
       "      <td>-0.769923</td>\n",
       "      <td>-0.969357</td>\n",
       "    </tr>\n",
       "    <tr>\n",
       "      <th>2013-01-03</th>\n",
       "      <td>-1.198768</td>\n",
       "      <td>-0.772949</td>\n",
       "      <td>-1.491370</td>\n",
       "      <td>-1.274547</td>\n",
       "    </tr>\n",
       "    <tr>\n",
       "      <th>2013-01-04</th>\n",
       "      <td>1.054902</td>\n",
       "      <td>1.376873</td>\n",
       "      <td>0.052332</td>\n",
       "      <td>0.745668</td>\n",
       "    </tr>\n",
       "    <tr>\n",
       "      <th>2013-01-05</th>\n",
       "      <td>0.561835</td>\n",
       "      <td>-0.889813</td>\n",
       "      <td>-0.098027</td>\n",
       "      <td>-1.399836</td>\n",
       "    </tr>\n",
       "    <tr>\n",
       "      <th>2013-01-06</th>\n",
       "      <td>-0.911789</td>\n",
       "      <td>0.038497</td>\n",
       "      <td>-1.117129</td>\n",
       "      <td>1.121232</td>\n",
       "    </tr>\n",
       "  </tbody>\n",
       "</table>\n",
       "</div>"
      ],
      "text/plain": [
       "                   A         B         C         D\n",
       "2013-01-01  0.089381 -0.656287 -0.807773  0.550668\n",
       "2013-01-02  1.277700 -1.119743 -0.769923 -0.969357\n",
       "2013-01-03 -1.198768 -0.772949 -1.491370 -1.274547\n",
       "2013-01-04  1.054902  1.376873  0.052332  0.745668\n",
       "2013-01-05  0.561835 -0.889813 -0.098027 -1.399836\n",
       "2013-01-06 -0.911789  0.038497 -1.117129  1.121232"
      ]
     },
     "execution_count": 2,
     "metadata": {},
     "output_type": "execute_result"
    }
   ],
   "source": [
    "df"
   ]
  },
  {
   "cell_type": "code",
   "execution_count": 3,
   "metadata": {
    "collapsed": true
   },
   "outputs": [],
   "source": [
    "df['E'] = np.where(df['D'] >= 0, '>=0', '<0')"
   ]
  },
  {
   "cell_type": "code",
   "execution_count": 4,
   "metadata": {
    "collapsed": false
   },
   "outputs": [
    {
     "data": {
      "text/html": [
       "<div>\n",
       "<table border=\"1\" class=\"dataframe\">\n",
       "  <thead>\n",
       "    <tr style=\"text-align: right;\">\n",
       "      <th></th>\n",
       "      <th>A</th>\n",
       "      <th>B</th>\n",
       "      <th>C</th>\n",
       "      <th>D</th>\n",
       "      <th>E</th>\n",
       "    </tr>\n",
       "  </thead>\n",
       "  <tbody>\n",
       "    <tr>\n",
       "      <th>2013-01-01</th>\n",
       "      <td>0.089381</td>\n",
       "      <td>-0.656287</td>\n",
       "      <td>-0.807773</td>\n",
       "      <td>0.550668</td>\n",
       "      <td>&gt;=0</td>\n",
       "    </tr>\n",
       "    <tr>\n",
       "      <th>2013-01-02</th>\n",
       "      <td>1.277700</td>\n",
       "      <td>-1.119743</td>\n",
       "      <td>-0.769923</td>\n",
       "      <td>-0.969357</td>\n",
       "      <td>&lt;0</td>\n",
       "    </tr>\n",
       "    <tr>\n",
       "      <th>2013-01-03</th>\n",
       "      <td>-1.198768</td>\n",
       "      <td>-0.772949</td>\n",
       "      <td>-1.491370</td>\n",
       "      <td>-1.274547</td>\n",
       "      <td>&lt;0</td>\n",
       "    </tr>\n",
       "    <tr>\n",
       "      <th>2013-01-04</th>\n",
       "      <td>1.054902</td>\n",
       "      <td>1.376873</td>\n",
       "      <td>0.052332</td>\n",
       "      <td>0.745668</td>\n",
       "      <td>&gt;=0</td>\n",
       "    </tr>\n",
       "    <tr>\n",
       "      <th>2013-01-05</th>\n",
       "      <td>0.561835</td>\n",
       "      <td>-0.889813</td>\n",
       "      <td>-0.098027</td>\n",
       "      <td>-1.399836</td>\n",
       "      <td>&lt;0</td>\n",
       "    </tr>\n",
       "    <tr>\n",
       "      <th>2013-01-06</th>\n",
       "      <td>-0.911789</td>\n",
       "      <td>0.038497</td>\n",
       "      <td>-1.117129</td>\n",
       "      <td>1.121232</td>\n",
       "      <td>&gt;=0</td>\n",
       "    </tr>\n",
       "  </tbody>\n",
       "</table>\n",
       "</div>"
      ],
      "text/plain": [
       "                   A         B         C         D    E\n",
       "2013-01-01  0.089381 -0.656287 -0.807773  0.550668  >=0\n",
       "2013-01-02  1.277700 -1.119743 -0.769923 -0.969357   <0\n",
       "2013-01-03 -1.198768 -0.772949 -1.491370 -1.274547   <0\n",
       "2013-01-04  1.054902  1.376873  0.052332  0.745668  >=0\n",
       "2013-01-05  0.561835 -0.889813 -0.098027 -1.399836   <0\n",
       "2013-01-06 -0.911789  0.038497 -1.117129  1.121232  >=0"
      ]
     },
     "execution_count": 4,
     "metadata": {},
     "output_type": "execute_result"
    }
   ],
   "source": [
    "df"
   ]
  },
  {
   "cell_type": "code",
   "execution_count": 5,
   "metadata": {
    "collapsed": true
   },
   "outputs": [],
   "source": [
    "df['F'] = np.random.randint(0, 2, 6)"
   ]
  },
  {
   "cell_type": "code",
   "execution_count": 6,
   "metadata": {
    "collapsed": false
   },
   "outputs": [
    {
     "data": {
      "text/html": [
       "<div>\n",
       "<table border=\"1\" class=\"dataframe\">\n",
       "  <thead>\n",
       "    <tr style=\"text-align: right;\">\n",
       "      <th></th>\n",
       "      <th>A</th>\n",
       "      <th>B</th>\n",
       "      <th>C</th>\n",
       "      <th>D</th>\n",
       "      <th>E</th>\n",
       "      <th>F</th>\n",
       "    </tr>\n",
       "  </thead>\n",
       "  <tbody>\n",
       "    <tr>\n",
       "      <th>2013-01-01</th>\n",
       "      <td>0.089381</td>\n",
       "      <td>-0.656287</td>\n",
       "      <td>-0.807773</td>\n",
       "      <td>0.550668</td>\n",
       "      <td>&gt;=0</td>\n",
       "      <td>1</td>\n",
       "    </tr>\n",
       "    <tr>\n",
       "      <th>2013-01-02</th>\n",
       "      <td>1.277700</td>\n",
       "      <td>-1.119743</td>\n",
       "      <td>-0.769923</td>\n",
       "      <td>-0.969357</td>\n",
       "      <td>&lt;0</td>\n",
       "      <td>0</td>\n",
       "    </tr>\n",
       "    <tr>\n",
       "      <th>2013-01-03</th>\n",
       "      <td>-1.198768</td>\n",
       "      <td>-0.772949</td>\n",
       "      <td>-1.491370</td>\n",
       "      <td>-1.274547</td>\n",
       "      <td>&lt;0</td>\n",
       "      <td>1</td>\n",
       "    </tr>\n",
       "    <tr>\n",
       "      <th>2013-01-04</th>\n",
       "      <td>1.054902</td>\n",
       "      <td>1.376873</td>\n",
       "      <td>0.052332</td>\n",
       "      <td>0.745668</td>\n",
       "      <td>&gt;=0</td>\n",
       "      <td>1</td>\n",
       "    </tr>\n",
       "    <tr>\n",
       "      <th>2013-01-05</th>\n",
       "      <td>0.561835</td>\n",
       "      <td>-0.889813</td>\n",
       "      <td>-0.098027</td>\n",
       "      <td>-1.399836</td>\n",
       "      <td>&lt;0</td>\n",
       "      <td>1</td>\n",
       "    </tr>\n",
       "    <tr>\n",
       "      <th>2013-01-06</th>\n",
       "      <td>-0.911789</td>\n",
       "      <td>0.038497</td>\n",
       "      <td>-1.117129</td>\n",
       "      <td>1.121232</td>\n",
       "      <td>&gt;=0</td>\n",
       "      <td>1</td>\n",
       "    </tr>\n",
       "  </tbody>\n",
       "</table>\n",
       "</div>"
      ],
      "text/plain": [
       "                   A         B         C         D    E  F\n",
       "2013-01-01  0.089381 -0.656287 -0.807773  0.550668  >=0  1\n",
       "2013-01-02  1.277700 -1.119743 -0.769923 -0.969357   <0  0\n",
       "2013-01-03 -1.198768 -0.772949 -1.491370 -1.274547   <0  1\n",
       "2013-01-04  1.054902  1.376873  0.052332  0.745668  >=0  1\n",
       "2013-01-05  0.561835 -0.889813 -0.098027 -1.399836   <0  1\n",
       "2013-01-06 -0.911789  0.038497 -1.117129  1.121232  >=0  1"
      ]
     },
     "execution_count": 6,
     "metadata": {},
     "output_type": "execute_result"
    }
   ],
   "source": [
    "df"
   ]
  },
  {
   "cell_type": "code",
   "execution_count": 7,
   "metadata": {
    "collapsed": false
   },
   "outputs": [
    {
     "data": {
      "text/html": [
       "<div>\n",
       "<table border=\"1\" class=\"dataframe\">\n",
       "  <thead>\n",
       "    <tr style=\"text-align: right;\">\n",
       "      <th></th>\n",
       "      <th>A</th>\n",
       "      <th>B</th>\n",
       "      <th>C</th>\n",
       "      <th>D</th>\n",
       "      <th>E</th>\n",
       "      <th>F</th>\n",
       "      <th>G</th>\n",
       "    </tr>\n",
       "  </thead>\n",
       "  <tbody>\n",
       "    <tr>\n",
       "      <th>2013-01-01</th>\n",
       "      <td>0.089381</td>\n",
       "      <td>-0.656287</td>\n",
       "      <td>-0.807773</td>\n",
       "      <td>0.550668</td>\n",
       "      <td>&gt;=0</td>\n",
       "      <td>1</td>\n",
       "      <td>0.049219</td>\n",
       "    </tr>\n",
       "    <tr>\n",
       "      <th>2013-01-02</th>\n",
       "      <td>1.277700</td>\n",
       "      <td>-1.119743</td>\n",
       "      <td>-0.769923</td>\n",
       "      <td>-0.969357</td>\n",
       "      <td>&lt;0</td>\n",
       "      <td>0</td>\n",
       "      <td>-1.238548</td>\n",
       "    </tr>\n",
       "    <tr>\n",
       "      <th>2013-01-03</th>\n",
       "      <td>-1.198768</td>\n",
       "      <td>-0.772949</td>\n",
       "      <td>-1.491370</td>\n",
       "      <td>-1.274547</td>\n",
       "      <td>&lt;0</td>\n",
       "      <td>1</td>\n",
       "      <td>1.527887</td>\n",
       "    </tr>\n",
       "    <tr>\n",
       "      <th>2013-01-04</th>\n",
       "      <td>1.054902</td>\n",
       "      <td>1.376873</td>\n",
       "      <td>0.052332</td>\n",
       "      <td>0.745668</td>\n",
       "      <td>&gt;=0</td>\n",
       "      <td>1</td>\n",
       "      <td>0.786606</td>\n",
       "    </tr>\n",
       "    <tr>\n",
       "      <th>2013-01-05</th>\n",
       "      <td>0.561835</td>\n",
       "      <td>-0.889813</td>\n",
       "      <td>-0.098027</td>\n",
       "      <td>-1.399836</td>\n",
       "      <td>&lt;0</td>\n",
       "      <td>1</td>\n",
       "      <td>-0.786477</td>\n",
       "    </tr>\n",
       "    <tr>\n",
       "      <th>2013-01-06</th>\n",
       "      <td>-0.911789</td>\n",
       "      <td>0.038497</td>\n",
       "      <td>-1.117129</td>\n",
       "      <td>1.121232</td>\n",
       "      <td>&gt;=0</td>\n",
       "      <td>1</td>\n",
       "      <td>-1.022327</td>\n",
       "    </tr>\n",
       "  </tbody>\n",
       "</table>\n",
       "</div>"
      ],
      "text/plain": [
       "                   A         B         C         D    E  F         G\n",
       "2013-01-01  0.089381 -0.656287 -0.807773  0.550668  >=0  1  0.049219\n",
       "2013-01-02  1.277700 -1.119743 -0.769923 -0.969357   <0  0 -1.238548\n",
       "2013-01-03 -1.198768 -0.772949 -1.491370 -1.274547   <0  1  1.527887\n",
       "2013-01-04  1.054902  1.376873  0.052332  0.745668  >=0  1  0.786606\n",
       "2013-01-05  0.561835 -0.889813 -0.098027 -1.399836   <0  1 -0.786477\n",
       "2013-01-06 -0.911789  0.038497 -1.117129  1.121232  >=0  1 -1.022327"
      ]
     },
     "execution_count": 7,
     "metadata": {},
     "output_type": "execute_result"
    }
   ],
   "source": [
    "df.assign(G = df.A * df.D)"
   ]
  },
  {
   "cell_type": "code",
   "execution_count": 8,
   "metadata": {
    "collapsed": true
   },
   "outputs": [],
   "source": [
    "df['F'] = df['F'].apply(str)"
   ]
  },
  {
   "cell_type": "code",
   "execution_count": 9,
   "metadata": {
    "collapsed": false
   },
   "outputs": [
    {
     "data": {
      "text/html": [
       "<div>\n",
       "<table border=\"1\" class=\"dataframe\">\n",
       "  <thead>\n",
       "    <tr style=\"text-align: right;\">\n",
       "      <th></th>\n",
       "      <th>A</th>\n",
       "      <th>B</th>\n",
       "      <th>C</th>\n",
       "      <th>D</th>\n",
       "      <th>E</th>\n",
       "      <th>F</th>\n",
       "    </tr>\n",
       "  </thead>\n",
       "  <tbody>\n",
       "    <tr>\n",
       "      <th>2013-01-01</th>\n",
       "      <td>0.089381</td>\n",
       "      <td>-0.656287</td>\n",
       "      <td>-0.807773</td>\n",
       "      <td>0.550668</td>\n",
       "      <td>&gt;=0</td>\n",
       "      <td>1</td>\n",
       "    </tr>\n",
       "    <tr>\n",
       "      <th>2013-01-02</th>\n",
       "      <td>1.277700</td>\n",
       "      <td>-1.119743</td>\n",
       "      <td>-0.769923</td>\n",
       "      <td>-0.969357</td>\n",
       "      <td>&lt;0</td>\n",
       "      <td>0</td>\n",
       "    </tr>\n",
       "    <tr>\n",
       "      <th>2013-01-03</th>\n",
       "      <td>-1.198768</td>\n",
       "      <td>-0.772949</td>\n",
       "      <td>-1.491370</td>\n",
       "      <td>-1.274547</td>\n",
       "      <td>&lt;0</td>\n",
       "      <td>1</td>\n",
       "    </tr>\n",
       "    <tr>\n",
       "      <th>2013-01-04</th>\n",
       "      <td>1.054902</td>\n",
       "      <td>1.376873</td>\n",
       "      <td>0.052332</td>\n",
       "      <td>0.745668</td>\n",
       "      <td>&gt;=0</td>\n",
       "      <td>1</td>\n",
       "    </tr>\n",
       "    <tr>\n",
       "      <th>2013-01-05</th>\n",
       "      <td>0.561835</td>\n",
       "      <td>-0.889813</td>\n",
       "      <td>-0.098027</td>\n",
       "      <td>-1.399836</td>\n",
       "      <td>&lt;0</td>\n",
       "      <td>1</td>\n",
       "    </tr>\n",
       "    <tr>\n",
       "      <th>2013-01-06</th>\n",
       "      <td>-0.911789</td>\n",
       "      <td>0.038497</td>\n",
       "      <td>-1.117129</td>\n",
       "      <td>1.121232</td>\n",
       "      <td>&gt;=0</td>\n",
       "      <td>1</td>\n",
       "    </tr>\n",
       "  </tbody>\n",
       "</table>\n",
       "</div>"
      ],
      "text/plain": [
       "                   A         B         C         D    E  F\n",
       "2013-01-01  0.089381 -0.656287 -0.807773  0.550668  >=0  1\n",
       "2013-01-02  1.277700 -1.119743 -0.769923 -0.969357   <0  0\n",
       "2013-01-03 -1.198768 -0.772949 -1.491370 -1.274547   <0  1\n",
       "2013-01-04  1.054902  1.376873  0.052332  0.745668  >=0  1\n",
       "2013-01-05  0.561835 -0.889813 -0.098027 -1.399836   <0  1\n",
       "2013-01-06 -0.911789  0.038497 -1.117129  1.121232  >=0  1"
      ]
     },
     "execution_count": 9,
     "metadata": {},
     "output_type": "execute_result"
    }
   ],
   "source": [
    "df"
   ]
  },
  {
   "cell_type": "code",
   "execution_count": 10,
   "metadata": {
    "collapsed": false
   },
   "outputs": [
    {
     "data": {
      "text/plain": [
       "<0     3\n",
       ">=0    3\n",
       "Name: E, dtype: int64"
      ]
     },
     "execution_count": 10,
     "metadata": {},
     "output_type": "execute_result"
    }
   ],
   "source": [
    "pd.value_counts(df[\"E\"])"
   ]
  },
  {
   "cell_type": "code",
   "execution_count": 11,
   "metadata": {
    "collapsed": false
   },
   "outputs": [
    {
     "data": {
      "text/html": [
       "<div>\n",
       "<table border=\"1\" class=\"dataframe\">\n",
       "  <thead>\n",
       "    <tr style=\"text-align: right;\">\n",
       "      <th></th>\n",
       "      <th></th>\n",
       "      <th>A</th>\n",
       "      <th>B</th>\n",
       "      <th>C</th>\n",
       "      <th>D</th>\n",
       "    </tr>\n",
       "    <tr>\n",
       "      <th>E</th>\n",
       "      <th>F</th>\n",
       "      <th></th>\n",
       "      <th></th>\n",
       "      <th></th>\n",
       "      <th></th>\n",
       "    </tr>\n",
       "  </thead>\n",
       "  <tbody>\n",
       "    <tr>\n",
       "      <th rowspan=\"2\" valign=\"top\">&lt;0</th>\n",
       "      <th>0</th>\n",
       "      <td>1.277700</td>\n",
       "      <td>-1.119743</td>\n",
       "      <td>-0.769923</td>\n",
       "      <td>-0.969357</td>\n",
       "    </tr>\n",
       "    <tr>\n",
       "      <th>1</th>\n",
       "      <td>-0.318466</td>\n",
       "      <td>-0.831381</td>\n",
       "      <td>-0.794698</td>\n",
       "      <td>-1.337192</td>\n",
       "    </tr>\n",
       "    <tr>\n",
       "      <th>&gt;=0</th>\n",
       "      <th>1</th>\n",
       "      <td>0.077498</td>\n",
       "      <td>0.253028</td>\n",
       "      <td>-0.624190</td>\n",
       "      <td>0.805856</td>\n",
       "    </tr>\n",
       "  </tbody>\n",
       "</table>\n",
       "</div>"
      ],
      "text/plain": [
       "              A         B         C         D\n",
       "E   F                                        \n",
       "<0  0  1.277700 -1.119743 -0.769923 -0.969357\n",
       "    1 -0.318466 -0.831381 -0.794698 -1.337192\n",
       ">=0 1  0.077498  0.253028 -0.624190  0.805856"
      ]
     },
     "execution_count": 11,
     "metadata": {},
     "output_type": "execute_result"
    }
   ],
   "source": [
    "pd.pivot_table(df,index=['E','F'])"
   ]
  },
  {
   "cell_type": "code",
   "execution_count": 12,
   "metadata": {
    "collapsed": false
   },
   "outputs": [
    {
     "data": {
      "text/plain": [
       "DatetimeIndex(['2013-01-01', '2013-01-02', '2013-01-03', '2013-01-04',\n",
       "               '2013-01-05', '2013-01-06'],\n",
       "              dtype='datetime64[ns]', freq='D')"
      ]
     },
     "execution_count": 12,
     "metadata": {},
     "output_type": "execute_result"
    }
   ],
   "source": [
    "df.index"
   ]
  },
  {
   "cell_type": "code",
   "execution_count": 13,
   "metadata": {
    "collapsed": false
   },
   "outputs": [
    {
     "data": {
      "text/html": [
       "<div>\n",
       "<table border=\"1\" class=\"dataframe\">\n",
       "  <thead>\n",
       "    <tr style=\"text-align: right;\">\n",
       "      <th></th>\n",
       "      <th></th>\n",
       "      <th>A</th>\n",
       "      <th>B</th>\n",
       "      <th>C</th>\n",
       "      <th>D</th>\n",
       "      <th>E</th>\n",
       "      <th>F</th>\n",
       "    </tr>\n",
       "    <tr>\n",
       "      <th></th>\n",
       "      <th>A</th>\n",
       "      <th></th>\n",
       "      <th></th>\n",
       "      <th></th>\n",
       "      <th></th>\n",
       "      <th></th>\n",
       "      <th></th>\n",
       "    </tr>\n",
       "  </thead>\n",
       "  <tbody>\n",
       "    <tr>\n",
       "      <th>2013-01-01</th>\n",
       "      <th>0.089381</th>\n",
       "      <td>0.089381</td>\n",
       "      <td>-0.656287</td>\n",
       "      <td>-0.807773</td>\n",
       "      <td>0.550668</td>\n",
       "      <td>&gt;=0</td>\n",
       "      <td>1</td>\n",
       "    </tr>\n",
       "    <tr>\n",
       "      <th>2013-01-02</th>\n",
       "      <th>1.277700</th>\n",
       "      <td>1.277700</td>\n",
       "      <td>-1.119743</td>\n",
       "      <td>-0.769923</td>\n",
       "      <td>-0.969357</td>\n",
       "      <td>&lt;0</td>\n",
       "      <td>0</td>\n",
       "    </tr>\n",
       "    <tr>\n",
       "      <th>2013-01-03</th>\n",
       "      <th>-1.198768</th>\n",
       "      <td>-1.198768</td>\n",
       "      <td>-0.772949</td>\n",
       "      <td>-1.491370</td>\n",
       "      <td>-1.274547</td>\n",
       "      <td>&lt;0</td>\n",
       "      <td>1</td>\n",
       "    </tr>\n",
       "    <tr>\n",
       "      <th>2013-01-04</th>\n",
       "      <th>1.054902</th>\n",
       "      <td>1.054902</td>\n",
       "      <td>1.376873</td>\n",
       "      <td>0.052332</td>\n",
       "      <td>0.745668</td>\n",
       "      <td>&gt;=0</td>\n",
       "      <td>1</td>\n",
       "    </tr>\n",
       "    <tr>\n",
       "      <th>2013-01-05</th>\n",
       "      <th>0.561835</th>\n",
       "      <td>0.561835</td>\n",
       "      <td>-0.889813</td>\n",
       "      <td>-0.098027</td>\n",
       "      <td>-1.399836</td>\n",
       "      <td>&lt;0</td>\n",
       "      <td>1</td>\n",
       "    </tr>\n",
       "    <tr>\n",
       "      <th>2013-01-06</th>\n",
       "      <th>-0.911789</th>\n",
       "      <td>-0.911789</td>\n",
       "      <td>0.038497</td>\n",
       "      <td>-1.117129</td>\n",
       "      <td>1.121232</td>\n",
       "      <td>&gt;=0</td>\n",
       "      <td>1</td>\n",
       "    </tr>\n",
       "  </tbody>\n",
       "</table>\n",
       "</div>"
      ],
      "text/plain": [
       "                             A         B         C         D    E  F\n",
       "           A                                                        \n",
       "2013-01-01  0.089381  0.089381 -0.656287 -0.807773  0.550668  >=0  1\n",
       "2013-01-02  1.277700  1.277700 -1.119743 -0.769923 -0.969357   <0  0\n",
       "2013-01-03 -1.198768 -1.198768 -0.772949 -1.491370 -1.274547   <0  1\n",
       "2013-01-04  1.054902  1.054902  1.376873  0.052332  0.745668  >=0  1\n",
       "2013-01-05  0.561835  0.561835 -0.889813 -0.098027 -1.399836   <0  1\n",
       "2013-01-06 -0.911789 -0.911789  0.038497 -1.117129  1.121232  >=0  1"
      ]
     },
     "execution_count": 13,
     "metadata": {},
     "output_type": "execute_result"
    }
   ],
   "source": [
    "df.set_index(['A'], drop = 0, append = 1)"
   ]
  },
  {
   "cell_type": "code",
   "execution_count": 14,
   "metadata": {
    "collapsed": true
   },
   "outputs": [],
   "source": [
    "df['dates'] = df.index "
   ]
  },
  {
   "cell_type": "code",
   "execution_count": 15,
   "metadata": {
    "collapsed": false
   },
   "outputs": [
    {
     "data": {
      "text/html": [
       "<div>\n",
       "<table border=\"1\" class=\"dataframe\">\n",
       "  <thead>\n",
       "    <tr style=\"text-align: right;\">\n",
       "      <th></th>\n",
       "      <th>A</th>\n",
       "      <th>B</th>\n",
       "      <th>C</th>\n",
       "      <th>D</th>\n",
       "      <th>E</th>\n",
       "      <th>F</th>\n",
       "      <th>dates</th>\n",
       "    </tr>\n",
       "  </thead>\n",
       "  <tbody>\n",
       "    <tr>\n",
       "      <th>2013-01-01</th>\n",
       "      <td>0.089381</td>\n",
       "      <td>-0.656287</td>\n",
       "      <td>-0.807773</td>\n",
       "      <td>0.550668</td>\n",
       "      <td>&gt;=0</td>\n",
       "      <td>1</td>\n",
       "      <td>2013-01-01</td>\n",
       "    </tr>\n",
       "    <tr>\n",
       "      <th>2013-01-02</th>\n",
       "      <td>1.277700</td>\n",
       "      <td>-1.119743</td>\n",
       "      <td>-0.769923</td>\n",
       "      <td>-0.969357</td>\n",
       "      <td>&lt;0</td>\n",
       "      <td>0</td>\n",
       "      <td>2013-01-02</td>\n",
       "    </tr>\n",
       "    <tr>\n",
       "      <th>2013-01-03</th>\n",
       "      <td>-1.198768</td>\n",
       "      <td>-0.772949</td>\n",
       "      <td>-1.491370</td>\n",
       "      <td>-1.274547</td>\n",
       "      <td>&lt;0</td>\n",
       "      <td>1</td>\n",
       "      <td>2013-01-03</td>\n",
       "    </tr>\n",
       "    <tr>\n",
       "      <th>2013-01-04</th>\n",
       "      <td>1.054902</td>\n",
       "      <td>1.376873</td>\n",
       "      <td>0.052332</td>\n",
       "      <td>0.745668</td>\n",
       "      <td>&gt;=0</td>\n",
       "      <td>1</td>\n",
       "      <td>2013-01-04</td>\n",
       "    </tr>\n",
       "    <tr>\n",
       "      <th>2013-01-05</th>\n",
       "      <td>0.561835</td>\n",
       "      <td>-0.889813</td>\n",
       "      <td>-0.098027</td>\n",
       "      <td>-1.399836</td>\n",
       "      <td>&lt;0</td>\n",
       "      <td>1</td>\n",
       "      <td>2013-01-05</td>\n",
       "    </tr>\n",
       "    <tr>\n",
       "      <th>2013-01-06</th>\n",
       "      <td>-0.911789</td>\n",
       "      <td>0.038497</td>\n",
       "      <td>-1.117129</td>\n",
       "      <td>1.121232</td>\n",
       "      <td>&gt;=0</td>\n",
       "      <td>1</td>\n",
       "      <td>2013-01-06</td>\n",
       "    </tr>\n",
       "  </tbody>\n",
       "</table>\n",
       "</div>"
      ],
      "text/plain": [
       "                   A         B         C         D    E  F      dates\n",
       "2013-01-01  0.089381 -0.656287 -0.807773  0.550668  >=0  1 2013-01-01\n",
       "2013-01-02  1.277700 -1.119743 -0.769923 -0.969357   <0  0 2013-01-02\n",
       "2013-01-03 -1.198768 -0.772949 -1.491370 -1.274547   <0  1 2013-01-03\n",
       "2013-01-04  1.054902  1.376873  0.052332  0.745668  >=0  1 2013-01-04\n",
       "2013-01-05  0.561835 -0.889813 -0.098027 -1.399836   <0  1 2013-01-05\n",
       "2013-01-06 -0.911789  0.038497 -1.117129  1.121232  >=0  1 2013-01-06"
      ]
     },
     "execution_count": 15,
     "metadata": {},
     "output_type": "execute_result"
    }
   ],
   "source": [
    "df"
   ]
  },
  {
   "cell_type": "code",
   "execution_count": null,
   "metadata": {
    "collapsed": true
   },
   "outputs": [],
   "source": []
  }
 ],
 "metadata": {
  "anaconda-cloud": {},
  "kernelspec": {
   "display_name": "Python [default]",
   "language": "python",
   "name": "python3"
  },
  "language_info": {
   "codemirror_mode": {
    "name": "ipython",
    "version": 3
   },
   "file_extension": ".py",
   "mimetype": "text/x-python",
   "name": "python",
   "nbconvert_exporter": "python",
   "pygments_lexer": "ipython3",
   "version": "3.5.2"
  }
 },
 "nbformat": 4,
 "nbformat_minor": 0
}
