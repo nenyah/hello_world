{
 "cells": [
  {
   "cell_type": "code",
   "execution_count": 1,
   "metadata": {
    "collapsed": true
   },
   "outputs": [],
   "source": [
    "import os\n",
    "import pandas as pd\n",
    "import numpy as np\n",
    "import matplotlib.pyplot as plt"
   ]
  },
  {
   "cell_type": "code",
   "execution_count": 2,
   "metadata": {
    "collapsed": false
   },
   "outputs": [
    {
     "data": {
      "text/plain": [
       "'F:\\\\workspace'"
      ]
     },
     "execution_count": 2,
     "metadata": {},
     "output_type": "execute_result"
    }
   ],
   "source": [
    "# 更改工作空间\n",
    "os.chdir(\"F:/workspace\")\n",
    "os.getcwd()"
   ]
  },
  {
   "cell_type": "code",
   "execution_count": 3,
   "metadata": {
    "collapsed": true
   },
   "outputs": [],
   "source": [
    "# 导入整理好的采购表\n",
    "file = \"total.csv\"\n",
    "pdf = pd.read_csv(file, encoding='gbk')"
   ]
  },
  {
   "cell_type": "code",
   "execution_count": 4,
   "metadata": {
    "collapsed": false
   },
   "outputs": [
    {
     "name": "stdout",
     "output_type": "stream",
     "text": [
      "<class 'pandas.core.frame.DataFrame'>\n",
      "RangeIndex: 314 entries, 0 to 313\n",
      "Data columns (total 12 columns):\n",
      "Unnamed: 0    314 non-null object\n",
      "供应商           306 non-null object\n",
      "供应商型号         92 non-null object\n",
      "国内运费（CNY）     305 non-null float64\n",
      "备注            68 non-null object\n",
      "备用网址          59 non-null object\n",
      "异常备注          20 non-null object\n",
      "类别材质尺寸        99 non-null object\n",
      "采购价(CNY)      310 non-null float64\n",
      "重量(KG)        306 non-null float64\n",
      "链接            311 non-null object\n",
      "图片路径          314 non-null object\n",
      "dtypes: float64(3), object(9)\n",
      "memory usage: 18.4+ KB\n"
     ]
    }
   ],
   "source": [
    "# 显示表格信息\n",
    "pdf.info()"
   ]
  },
  {
   "cell_type": "code",
   "execution_count": 5,
   "metadata": {
    "collapsed": false
   },
   "outputs": [
    {
     "data": {
      "text/plain": [
       "Index(['Unnamed: 0', '供应商', '供应商型号', '国内运费（CNY）', '备注', '备用网址', '异常备注',\n",
       "       '类别材质尺寸', '采购价(CNY)', '重量(KG)', '链接', '图片路径'],\n",
       "      dtype='object')"
      ]
     },
     "execution_count": 5,
     "metadata": {},
     "output_type": "execute_result"
    }
   ],
   "source": [
    "# 显示列名\n",
    "pdf.columns"
   ]
  },
  {
   "cell_type": "code",
   "execution_count": 6,
   "metadata": {
    "collapsed": false
   },
   "outputs": [],
   "source": [
    "# 修改未命名列\n",
    "pdf.rename(columns={'Unnamed: 0':'商家编码'}, inplace=True)"
   ]
  },
  {
   "cell_type": "code",
   "execution_count": 7,
   "metadata": {
    "collapsed": false
   },
   "outputs": [
    {
     "data": {
      "text/plain": [
       "Index(['商家编码', '供应商', '供应商型号', '国内运费（CNY）', '备注', '备用网址', '异常备注', '类别材质尺寸',\n",
       "       '采购价(CNY)', '重量(KG)', '链接', '图片路径'],\n",
       "      dtype='object')"
      ]
     },
     "execution_count": 7,
     "metadata": {},
     "output_type": "execute_result"
    }
   ],
   "source": [
    "# 确认列名更改情况\n",
    "pdf.columns"
   ]
  },
  {
   "cell_type": "code",
   "execution_count": 8,
   "metadata": {
    "collapsed": false
   },
   "outputs": [
    {
     "name": "stdout",
     "output_type": "stream",
     "text": [
      "WARNING *** file size (4373721) not 512 + multiple of sector size (512)\n"
     ]
    }
   ],
   "source": [
    "# 导入ERP数据\n",
    "erp_data = r\"C:\\Users\\steve\\Desktop\\ERP_data.xls\"\n",
    "erp = pd.read_excel(erp_data)"
   ]
  },
  {
   "cell_type": "code",
   "execution_count": 9,
   "metadata": {
    "collapsed": false
   },
   "outputs": [
    {
     "name": "stdout",
     "output_type": "stream",
     "text": [
      "<class 'pandas.core.frame.DataFrame'>\n",
      "RangeIndex: 5501 entries, 0 to 5500\n",
      "Data columns (total 11 columns):\n",
      "产品Logo    5501 non-null object\n",
      "ID        5501 non-null int64\n",
      "产品中文名称    5501 non-null object\n",
      "产品英文名称    5501 non-null object\n",
      "实际采购成本    3570 non-null float64\n",
      "产品SKU     5501 non-null object\n",
      "创建时间      5501 non-null datetime64[ns]\n",
      "最后同步时间    5501 non-null datetime64[ns]\n",
      "报关中文品名    4795 non-null object\n",
      "安全库存      1868 non-null float64\n",
      "标记        4533 non-null object\n",
      "dtypes: datetime64[ns](2), float64(2), int64(1), object(6)\n",
      "memory usage: 343.9+ KB\n"
     ]
    }
   ],
   "source": [
    "# ERP数据信息\n",
    "erp.info()"
   ]
  },
  {
   "cell_type": "code",
   "execution_count": 10,
   "metadata": {
    "collapsed": false
   },
   "outputs": [
    {
     "data": {
      "text/plain": [
       "(5501, 5501)"
      ]
     },
     "execution_count": 10,
     "metadata": {},
     "output_type": "execute_result"
    }
   ],
   "source": [
    "# 查看产品SKU有没有重复\n",
    "len(erp['产品SKU'].values),len(set(erp['产品SKU'].values))"
   ]
  },
  {
   "cell_type": "code",
   "execution_count": 11,
   "metadata": {
    "collapsed": false
   },
   "outputs": [],
   "source": [
    "erp['SPU'] = erp['产品SKU'].map(lambda x: x[:7] if len(x) > 7 else x)"
   ]
  },
  {
   "cell_type": "code",
   "execution_count": 12,
   "metadata": {
    "collapsed": true
   },
   "outputs": [],
   "source": [
    "m = pd.merge(erp,pdf,left_on='SPU',right_on='商家编码')"
   ]
  },
  {
   "cell_type": "code",
   "execution_count": 13,
   "metadata": {
    "collapsed": false
   },
   "outputs": [
    {
     "name": "stdout",
     "output_type": "stream",
     "text": [
      "<class 'pandas.core.frame.DataFrame'>\n",
      "Int64Index: 4546 entries, 0 to 4545\n",
      "Data columns (total 24 columns):\n",
      "产品Logo       4546 non-null object\n",
      "ID           4546 non-null int64\n",
      "产品中文名称       4546 non-null object\n",
      "产品英文名称       4546 non-null object\n",
      "实际采购成本       3096 non-null float64\n",
      "产品SKU        4546 non-null object\n",
      "创建时间         4546 non-null datetime64[ns]\n",
      "最后同步时间       4546 non-null datetime64[ns]\n",
      "报关中文品名       4132 non-null object\n",
      "安全库存         1626 non-null float64\n",
      "标记           3579 non-null object\n",
      "SPU          4546 non-null object\n",
      "商家编码         4546 non-null object\n",
      "供应商          4308 non-null object\n",
      "供应商型号        965 non-null object\n",
      "国内运费（CNY）    4303 non-null float64\n",
      "备注           742 non-null object\n",
      "备用网址         947 non-null object\n",
      "异常备注         281 non-null object\n",
      "类别材质尺寸       1979 non-null object\n",
      "采购价(CNY)     4450 non-null float64\n",
      "重量(KG)       4308 non-null float64\n",
      "链接           4504 non-null object\n",
      "图片路径         4546 non-null object\n",
      "dtypes: datetime64[ns](2), float64(5), int64(1), object(16)\n",
      "memory usage: 603.8+ KB\n"
     ]
    }
   ],
   "source": [
    "m.info()"
   ]
  },
  {
   "cell_type": "code",
   "execution_count": 71,
   "metadata": {
    "collapsed": false
   },
   "outputs": [
    {
     "data": {
      "text/plain": [
       "产品Logo          0\n",
       "ID              0\n",
       "产品中文名称          0\n",
       "产品英文名称          0\n",
       "实际采购成本       1450\n",
       "产品SKU           0\n",
       "创建时间            0\n",
       "最后同步时间          0\n",
       "报关中文品名        414\n",
       "安全库存         2920\n",
       "标记            967\n",
       "SPU             0\n",
       "商家编码            0\n",
       "供应商             0\n",
       "供应商型号        3581\n",
       "国内运费（CNY）     243\n",
       "备注           3804\n",
       "备用网址         3599\n",
       "异常备注         4265\n",
       "类别材质尺寸       2567\n",
       "采购价(CNY)        0\n",
       "重量(KG)          0\n",
       "链接             24\n",
       "图片路径            0\n",
       "dtype: int64"
      ]
     },
     "execution_count": 71,
     "metadata": {},
     "output_type": "execute_result"
    }
   ],
   "source": [
    "m.apply(lambda x:sum(x.isnull()), axis=0)"
   ]
  },
  {
   "cell_type": "code",
   "execution_count": 70,
   "metadata": {
    "collapsed": false
   },
   "outputs": [
    {
     "data": {
      "text/plain": [
       "Series([], Name: SPU, dtype: object)"
      ]
     },
     "execution_count": 70,
     "metadata": {},
     "output_type": "execute_result"
    }
   ],
   "source": [
    "m.ix[m['采购价(CNY)'].isnull(),'SPU']"
   ]
  },
  {
   "cell_type": "code",
   "execution_count": 69,
   "metadata": {
    "collapsed": false
   },
   "outputs": [],
   "source": [
    "m.ix[m['SPU']=='DHXX005','采购价(CNY)'] = 21\n",
    "m.ix[m['SPU']=='STXR101','采购价(CNY)'] = 18.5\n",
    "#m.ix[m['SPU']=='DSBC061','链接']"
   ]
  },
  {
   "cell_type": "code",
   "execution_count": 72,
   "metadata": {
    "collapsed": true
   },
   "outputs": [],
   "source": [
    "# 导出存档\n",
    "m.to_csv(\"采购链接.csv\",index=False)"
   ]
  },
  {
   "cell_type": "code",
   "execution_count": 73,
   "metadata": {
    "collapsed": false
   },
   "outputs": [
    {
     "data": {
      "text/plain": [
       "Index(['产品Logo', 'ID', '产品中文名称', '产品英文名称', '实际采购成本', '产品SKU', '创建时间', '最后同步时间',\n",
       "       '报关中文品名', '安全库存', '标记', 'SPU', '商家编码', '供应商', '供应商型号', '国内运费（CNY）',\n",
       "       '备注', '备用网址', '异常备注', '类别材质尺寸', '采购价(CNY)', '重量(KG)', '链接', '图片路径'],\n",
       "      dtype='object')"
      ]
     },
     "execution_count": 73,
     "metadata": {},
     "output_type": "execute_result"
    }
   ],
   "source": [
    "# 查看列\n",
    "m.columns"
   ]
  },
  {
   "cell_type": "code",
   "execution_count": 74,
   "metadata": {
    "collapsed": false
   },
   "outputs": [
    {
     "data": {
      "text/plain": [
       "(4546, 6)"
      ]
     },
     "execution_count": 74,
     "metadata": {},
     "output_type": "execute_result"
    }
   ],
   "source": [
    "savecol = ['供应商', '产品英文名称','产品SKU','备用网址','采购价(CNY)', '链接']\n",
    "savem = m[savecol].copy()\n",
    "savem.shape"
   ]
  },
  {
   "cell_type": "code",
   "execution_count": 75,
   "metadata": {
    "collapsed": false
   },
   "outputs": [
    {
     "data": {
      "text/plain": [
       "供应商            0\n",
       "产品英文名称         0\n",
       "产品SKU          0\n",
       "备用网址        3599\n",
       "采购价(CNY)       0\n",
       "链接            24\n",
       "dtype: int64"
      ]
     },
     "execution_count": 75,
     "metadata": {},
     "output_type": "execute_result"
    }
   ],
   "source": [
    "savem.apply(lambda x:sum(x.isnull()), axis=0)"
   ]
  },
  {
   "cell_type": "code",
   "execution_count": 76,
   "metadata": {
    "collapsed": false
   },
   "outputs": [
    {
     "data": {
      "text/html": [
       "<div>\n",
       "<table border=\"1\" class=\"dataframe\">\n",
       "  <thead>\n",
       "    <tr style=\"text-align: right;\">\n",
       "      <th></th>\n",
       "      <th>供应商</th>\n",
       "      <th>产品名称</th>\n",
       "      <th>SKU</th>\n",
       "      <th>备用网址</th>\n",
       "      <th>业务员参考价</th>\n",
       "      <th>采购链接</th>\n",
       "    </tr>\n",
       "  </thead>\n",
       "  <tbody>\n",
       "    <tr>\n",
       "      <th>0</th>\n",
       "      <td>basecamp/贝斯卡官方旗舰店</td>\n",
       "      <td>[NaturalHome] Brand Cycling Mountain Bike Port...</td>\n",
       "      <td>BABC071</td>\n",
       "      <td>NaN</td>\n",
       "      <td>18.5</td>\n",
       "      <td>http://detail.1688.com/offer/521203258102.html</td>\n",
       "    </tr>\n",
       "    <tr>\n",
       "      <th>1</th>\n",
       "      <td>basecamp/贝斯卡官方旗舰店</td>\n",
       "      <td>[NaturalHome] Brand Cycling Bicycle Mountain B...</td>\n",
       "      <td>BABC146blackgreen</td>\n",
       "      <td>NaN</td>\n",
       "      <td>8.0</td>\n",
       "      <td>https://detail.1688.com/offer/43459587419.html</td>\n",
       "    </tr>\n",
       "    <tr>\n",
       "      <th>2</th>\n",
       "      <td>basecamp/贝斯卡官方旗舰店</td>\n",
       "      <td>[NaturalHome] Brand Cycling Bicycle Mountain B...</td>\n",
       "      <td>BABC146blackwhite</td>\n",
       "      <td>NaN</td>\n",
       "      <td>8.0</td>\n",
       "      <td>https://detail.1688.com/offer/43459587419.html</td>\n",
       "    </tr>\n",
       "    <tr>\n",
       "      <th>3</th>\n",
       "      <td>basecamp/贝斯卡官方旗舰店</td>\n",
       "      <td>[NaturalHome] Brand Cycling Bicycle Mountain B...</td>\n",
       "      <td>BABC146blue</td>\n",
       "      <td>NaN</td>\n",
       "      <td>8.0</td>\n",
       "      <td>https://detail.1688.com/offer/43459587419.html</td>\n",
       "    </tr>\n",
       "    <tr>\n",
       "      <th>4</th>\n",
       "      <td>basecamp/贝斯卡官方旗舰店</td>\n",
       "      <td>[NaturalHome] Brand Cycling Bicycle Mountain B...</td>\n",
       "      <td>BABC146green</td>\n",
       "      <td>NaN</td>\n",
       "      <td>8.0</td>\n",
       "      <td>https://detail.1688.com/offer/43459587419.html</td>\n",
       "    </tr>\n",
       "  </tbody>\n",
       "</table>\n",
       "</div>"
      ],
      "text/plain": [
       "                 供应商                                               产品名称  \\\n",
       "0  basecamp/贝斯卡官方旗舰店  [NaturalHome] Brand Cycling Mountain Bike Port...   \n",
       "1  basecamp/贝斯卡官方旗舰店  [NaturalHome] Brand Cycling Bicycle Mountain B...   \n",
       "2  basecamp/贝斯卡官方旗舰店  [NaturalHome] Brand Cycling Bicycle Mountain B...   \n",
       "3  basecamp/贝斯卡官方旗舰店  [NaturalHome] Brand Cycling Bicycle Mountain B...   \n",
       "4  basecamp/贝斯卡官方旗舰店  [NaturalHome] Brand Cycling Bicycle Mountain B...   \n",
       "\n",
       "                 SKU 备用网址  业务员参考价  \\\n",
       "0            BABC071  NaN    18.5   \n",
       "1  BABC146blackgreen  NaN     8.0   \n",
       "2  BABC146blackwhite  NaN     8.0   \n",
       "3        BABC146blue  NaN     8.0   \n",
       "4       BABC146green  NaN     8.0   \n",
       "\n",
       "                                             采购链接  \n",
       "0  http://detail.1688.com/offer/521203258102.html  \n",
       "1  https://detail.1688.com/offer/43459587419.html  \n",
       "2  https://detail.1688.com/offer/43459587419.html  \n",
       "3  https://detail.1688.com/offer/43459587419.html  \n",
       "4  https://detail.1688.com/offer/43459587419.html  "
      ]
     },
     "execution_count": 76,
     "metadata": {},
     "output_type": "execute_result"
    }
   ],
   "source": [
    "savem.columns = ['供应商', '产品名称','SKU','备用网址','业务员参考价', '采购链接']\n",
    "savem.head()"
   ]
  },
  {
   "cell_type": "code",
   "execution_count": 77,
   "metadata": {
    "collapsed": false
   },
   "outputs": [],
   "source": [
    "savem['数量'] = 1\n",
    "savem['单价'] = 0"
   ]
  },
  {
   "cell_type": "code",
   "execution_count": 82,
   "metadata": {
    "collapsed": false
   },
   "outputs": [
    {
     "data": {
      "text/plain": [
       "['供应商', '产品名称', 'SKU', '备用网址', '业务员参考价', '采购链接', '数量', '单价']"
      ]
     },
     "execution_count": 82,
     "metadata": {},
     "output_type": "execute_result"
    }
   ],
   "source": [
    "col = list(savem.columns)\n",
    "col"
   ]
  },
  {
   "cell_type": "code",
   "execution_count": 83,
   "metadata": {
    "collapsed": false
   },
   "outputs": [
    {
     "data": {
      "text/plain": [
       "['供应商', '产品名称', 'SKU', '数量', '备用网址', '业务员参考价', '采购链接', '单价']"
      ]
     },
     "execution_count": 83,
     "metadata": {},
     "output_type": "execute_result"
    }
   ],
   "source": [
    "col.insert(3, col.pop(col.index('数量')))\n",
    "col"
   ]
  },
  {
   "cell_type": "code",
   "execution_count": 89,
   "metadata": {
    "collapsed": false
   },
   "outputs": [
    {
     "data": {
      "text/plain": [
       "['供应商', '产品名称', 'SKU', '数量', '单价', '业务员参考价', '采购链接', '备用网址']"
      ]
     },
     "execution_count": 89,
     "metadata": {},
     "output_type": "execute_result"
    }
   ],
   "source": [
    "#col.insert(4, col.pop(col.index('单价')))\n",
    "col.append('备用网址')\n",
    "col"
   ]
  },
  {
   "cell_type": "code",
   "execution_count": 90,
   "metadata": {
    "collapsed": false
   },
   "outputs": [
    {
     "data": {
      "text/html": [
       "<div>\n",
       "<table border=\"1\" class=\"dataframe\">\n",
       "  <thead>\n",
       "    <tr style=\"text-align: right;\">\n",
       "      <th></th>\n",
       "      <th>供应商</th>\n",
       "      <th>产品名称</th>\n",
       "      <th>SKU</th>\n",
       "      <th>数量</th>\n",
       "      <th>单价</th>\n",
       "      <th>业务员参考价</th>\n",
       "      <th>采购链接</th>\n",
       "      <th>备用网址</th>\n",
       "    </tr>\n",
       "  </thead>\n",
       "  <tbody>\n",
       "    <tr>\n",
       "      <th>0</th>\n",
       "      <td>basecamp/贝斯卡官方旗舰店</td>\n",
       "      <td>[NaturalHome] Brand Cycling Mountain Bike Port...</td>\n",
       "      <td>BABC071</td>\n",
       "      <td>1</td>\n",
       "      <td>0</td>\n",
       "      <td>18.5</td>\n",
       "      <td>http://detail.1688.com/offer/521203258102.html</td>\n",
       "      <td>NaN</td>\n",
       "    </tr>\n",
       "    <tr>\n",
       "      <th>1</th>\n",
       "      <td>basecamp/贝斯卡官方旗舰店</td>\n",
       "      <td>[NaturalHome] Brand Cycling Bicycle Mountain B...</td>\n",
       "      <td>BABC146blackgreen</td>\n",
       "      <td>1</td>\n",
       "      <td>0</td>\n",
       "      <td>8.0</td>\n",
       "      <td>https://detail.1688.com/offer/43459587419.html</td>\n",
       "      <td>NaN</td>\n",
       "    </tr>\n",
       "    <tr>\n",
       "      <th>2</th>\n",
       "      <td>basecamp/贝斯卡官方旗舰店</td>\n",
       "      <td>[NaturalHome] Brand Cycling Bicycle Mountain B...</td>\n",
       "      <td>BABC146blackwhite</td>\n",
       "      <td>1</td>\n",
       "      <td>0</td>\n",
       "      <td>8.0</td>\n",
       "      <td>https://detail.1688.com/offer/43459587419.html</td>\n",
       "      <td>NaN</td>\n",
       "    </tr>\n",
       "    <tr>\n",
       "      <th>3</th>\n",
       "      <td>basecamp/贝斯卡官方旗舰店</td>\n",
       "      <td>[NaturalHome] Brand Cycling Bicycle Mountain B...</td>\n",
       "      <td>BABC146blue</td>\n",
       "      <td>1</td>\n",
       "      <td>0</td>\n",
       "      <td>8.0</td>\n",
       "      <td>https://detail.1688.com/offer/43459587419.html</td>\n",
       "      <td>NaN</td>\n",
       "    </tr>\n",
       "    <tr>\n",
       "      <th>4</th>\n",
       "      <td>basecamp/贝斯卡官方旗舰店</td>\n",
       "      <td>[NaturalHome] Brand Cycling Bicycle Mountain B...</td>\n",
       "      <td>BABC146green</td>\n",
       "      <td>1</td>\n",
       "      <td>0</td>\n",
       "      <td>8.0</td>\n",
       "      <td>https://detail.1688.com/offer/43459587419.html</td>\n",
       "      <td>NaN</td>\n",
       "    </tr>\n",
       "  </tbody>\n",
       "</table>\n",
       "</div>"
      ],
      "text/plain": [
       "                 供应商                                               产品名称  \\\n",
       "0  basecamp/贝斯卡官方旗舰店  [NaturalHome] Brand Cycling Mountain Bike Port...   \n",
       "1  basecamp/贝斯卡官方旗舰店  [NaturalHome] Brand Cycling Bicycle Mountain B...   \n",
       "2  basecamp/贝斯卡官方旗舰店  [NaturalHome] Brand Cycling Bicycle Mountain B...   \n",
       "3  basecamp/贝斯卡官方旗舰店  [NaturalHome] Brand Cycling Bicycle Mountain B...   \n",
       "4  basecamp/贝斯卡官方旗舰店  [NaturalHome] Brand Cycling Bicycle Mountain B...   \n",
       "\n",
       "                 SKU  数量  单价  业务员参考价  \\\n",
       "0            BABC071   1   0    18.5   \n",
       "1  BABC146blackgreen   1   0     8.0   \n",
       "2  BABC146blackwhite   1   0     8.0   \n",
       "3        BABC146blue   1   0     8.0   \n",
       "4       BABC146green   1   0     8.0   \n",
       "\n",
       "                                             采购链接 备用网址  \n",
       "0  http://detail.1688.com/offer/521203258102.html  NaN  \n",
       "1  https://detail.1688.com/offer/43459587419.html  NaN  \n",
       "2  https://detail.1688.com/offer/43459587419.html  NaN  \n",
       "3  https://detail.1688.com/offer/43459587419.html  NaN  \n",
       "4  https://detail.1688.com/offer/43459587419.html  NaN  "
      ]
     },
     "execution_count": 90,
     "metadata": {},
     "output_type": "execute_result"
    }
   ],
   "source": [
    "savem = savem[col]\n",
    "savem.head()"
   ]
  },
  {
   "cell_type": "code",
   "execution_count": 91,
   "metadata": {
    "collapsed": true
   },
   "outputs": [],
   "source": [
    "savem.to_csv('导入ERP报价信息.csv',index=False)"
   ]
  },
  {
   "cell_type": "code",
   "execution_count": null,
   "metadata": {
    "collapsed": true
   },
   "outputs": [],
   "source": []
  }
 ],
 "metadata": {
  "anaconda-cloud": {},
  "kernelspec": {
   "display_name": "Python [default]",
   "language": "python",
   "name": "python3"
  },
  "language_info": {
   "codemirror_mode": {
    "name": "ipython",
    "version": 3
   },
   "file_extension": ".py",
   "mimetype": "text/x-python",
   "name": "python",
   "nbconvert_exporter": "python",
   "pygments_lexer": "ipython3",
   "version": "3.5.2"
  }
 },
 "nbformat": 4,
 "nbformat_minor": 1
}
