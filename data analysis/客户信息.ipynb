{
 "cells": [
  {
   "cell_type": "code",
   "execution_count": 1,
   "metadata": {
    "collapsed": true
   },
   "outputs": [],
   "source": [
    "datadir = r'C:\\Users\\steve\\Desktop\\clients_contacts'"
   ]
  },
  {
   "cell_type": "code",
   "execution_count": 2,
   "metadata": {
    "collapsed": true
   },
   "outputs": [],
   "source": [
    "# 攻取目标目录所有\n",
    "def get_data(path=r'./*.xls', on=None):\n",
    "    \"\"\"合并数据\"\"\"\n",
    "    all_data = pd.DataFrame()\n",
    "    for f in glob.glob(path):\n",
    "        df = pd.read_excel(f)\n",
    "#        print(len(df))\n",
    "        all_data = all_data.append(df, ignore_index=True)\n",
    "    if on:\n",
    "        return all_data.drop_duplicates(on)\n",
    "    else:\n",
    "        return all_data"
   ]
  },
  {
   "cell_type": "code",
   "execution_count": 3,
   "metadata": {
    "collapsed": true
   },
   "outputs": [],
   "source": [
    "import os\n",
    "os.chdir(datadir)"
   ]
  },
  {
   "cell_type": "code",
   "execution_count": 53,
   "metadata": {
    "collapsed": false
   },
   "outputs": [
    {
     "name": "stdout",
     "output_type": "stream",
     "text": [
      "WARNING *** file size (4308) not 512 + multiple of sector size (512)\n",
      "WARNING *** file size (10424732) not 512 + multiple of sector size (512)\n",
      "WARNING *** file size (11294808) not 512 + multiple of sector size (512)\n",
      "WARNING *** file size (13231428) not 512 + multiple of sector size (512)\n",
      "WARNING *** file size (10037523) not 512 + multiple of sector size (512)\n",
      "WARNING *** file size (12927908) not 512 + multiple of sector size (512)\n"
     ]
    }
   ],
   "source": [
    "import glob\n",
    "df = get_data()"
   ]
  },
  {
   "cell_type": "code",
   "execution_count": 54,
   "metadata": {
    "collapsed": false
   },
   "outputs": [
    {
     "data": {
      "text/plain": [
       "143322"
      ]
     },
     "execution_count": 54,
     "metadata": {},
     "output_type": "execute_result"
    }
   ],
   "source": [
    "len(df)"
   ]
  },
  {
   "cell_type": "code",
   "execution_count": 55,
   "metadata": {
    "collapsed": false
   },
   "outputs": [
    {
     "name": "stdout",
     "output_type": "stream",
     "text": [
      "<class 'pandas.core.frame.DataFrame'>\n",
      "RangeIndex: 143322 entries, 0 to 143321\n",
      "Data columns (total 15 columns):\n",
      "用户编号       143322 non-null int64\n",
      "客户姓名       135337 non-null object\n",
      "真实姓名       0 non-null float64\n",
      "邮箱         83391 non-null object\n",
      "速卖通账号      133495 non-null object\n",
      "国家         133824 non-null object\n",
      "手机         101298 non-null object\n",
      "电话         118656 non-null object\n",
      "均消费额(￥)    143322 non-null float64\n",
      "消费次数       143322 non-null int64\n",
      "消费总额(￥)    143322 non-null float64\n",
      "最近订单日期     143322 non-null datetime64[ns]\n",
      "客户等级       82000 non-null object\n",
      "客户类型       143261 non-null object\n",
      "店铺         133525 non-null object\n",
      "dtypes: datetime64[ns](1), float64(3), int64(2), object(9)\n",
      "memory usage: 11.5+ MB\n"
     ]
    }
   ],
   "source": [
    "df.info()"
   ]
  },
  {
   "cell_type": "code",
   "execution_count": 56,
   "metadata": {
    "collapsed": false
   },
   "outputs": [
    {
     "data": {
      "text/plain": [
       "用户编号            0\n",
       "客户姓名         7985\n",
       "真实姓名       143322\n",
       "邮箱          59931\n",
       "速卖通账号        9827\n",
       "国家           9498\n",
       "手机          42024\n",
       "电话          24666\n",
       "均消费额(￥)         0\n",
       "消费次数            0\n",
       "消费总额(￥)         0\n",
       "最近订单日期          0\n",
       "客户等级        61322\n",
       "客户类型           61\n",
       "店铺           9797\n",
       "dtype: int64"
      ]
     },
     "execution_count": 56,
     "metadata": {},
     "output_type": "execute_result"
    }
   ],
   "source": [
    "df.apply(lambda x:sum(x.isnull()),axis=0)"
   ]
  },
  {
   "cell_type": "code",
   "execution_count": 58,
   "metadata": {
    "collapsed": false
   },
   "outputs": [],
   "source": [
    "def cap(name):\n",
    "    if len(str(name)) > 0:\n",
    "        temp = []\n",
    "        for word in str(name).split(' '):\n",
    "            temp.append(word.capitalize()) \n",
    "        return ' '.join(temp)\n",
    "df['客户姓名'] = df['客户姓名'].map(cap)"
   ]
  },
  {
   "cell_type": "code",
   "execution_count": 59,
   "metadata": {
    "collapsed": true
   },
   "outputs": [
    {
     "data": {
      "text/plain": [
       "Nan                          7985\n",
       "Damla Marmarisli               52\n",
       "Olga Olga                      29\n",
       "Elena Elena                    22\n",
       "Dean Veevers                   21\n",
       "Anna Ershova                   18\n",
       "Alex Alex                      18\n",
       "Irina Irina                    18\n",
       "Ecem Yazgan                    14\n",
       "Aliexpress Zipy                14\n",
       "Ivan Ivanov                    14\n",
       "Oleg Oleg                      13\n",
       "Sergey Ivanov                  12\n",
       "Fanny Gamarra                  11\n",
       "Vladimir Vladimir              11\n",
       "Jose Martinez                  10\n",
       "Anna Anna                      10\n",
       "Olga Ivanova                   10\n",
       "                               10\n",
       "Andrey Ivanov                  10\n",
       "Lucas Almeida                   9\n",
       "Tanya Tanya                     9\n",
       "Jorge Garcia                    9\n",
       "Hans Kristian Skaarer           9\n",
       "Elena Ivanova                   8\n",
       "Dima Dima                       8\n",
       "Svetlana Ivanova                8\n",
       "Oksana Oksana                   8\n",
       "Aliexpress Zip                  8\n",
       "Elena Smirnova                  8\n",
       "                             ... \n",
       "Elvira Utkina                   1\n",
       "Vitaly Yanbykh                  1\n",
       "Maria Irigoitia                 1\n",
       "Svetlana Efimova                1\n",
       "Roger Boada Navarro             1\n",
       "Desiree G                       1\n",
       "Y Lin                           1\n",
       "Sana Sarhan                     1\n",
       "Jaime Morales                   1\n",
       "Ludmila Yuzupchuk               1\n",
       "Huesler Lorenzo                 1\n",
       "Elena Nadeina                   1\n",
       "Diana Amrahova                  1\n",
       "Jelena Katsuba                  1\n",
       "Miguel Cardenas                 1\n",
       "Violet Siberia                  1\n",
       "Nate Fordyce                    1\n",
       "Alexandr Bolotin                1\n",
       "Laetitia Serveaux               1\n",
       "Roman Jponez                    1\n",
       "Werner Briene                   1\n",
       "Gisele Boschiero                1\n",
       "Dalialileth Huansipanduro       1\n",
       "Antizan Destani                 1\n",
       "Alexandr Lyukshin               1\n",
       "Amir Steiner                    1\n",
       "Michal Rogala                   1\n",
       "Dardan Sylaj                    1\n",
       "Marcela Candeias                1\n",
       "Tin Jeartrakul                  1\n",
       "Name: 客户姓名, dtype: int64"
      ]
     },
     "execution_count": 59,
     "metadata": {},
     "output_type": "execute_result"
    }
   ],
   "source": [
    "df['客户姓名'].value_counts()"
   ]
  },
  {
   "cell_type": "code",
   "execution_count": 24,
   "metadata": {
    "collapsed": true
   },
   "outputs": [],
   "source": [
    "# 导出汇总数据\n",
    "df.to_csv('客户信息汇总.csv',index=False)"
   ]
  },
  {
   "cell_type": "code",
   "execution_count": 74,
   "metadata": {
    "collapsed": true
   },
   "outputs": [],
   "source": [
    "df = df.dropna(axis=1, how='all')"
   ]
  },
  {
   "cell_type": "code",
   "execution_count": 75,
   "metadata": {
    "collapsed": false
   },
   "outputs": [
    {
     "data": {
      "text/plain": [
       "用户编号                int64\n",
       "客户姓名               object\n",
       "邮箱                 object\n",
       "速卖通账号              object\n",
       "国家                 object\n",
       "手机                 object\n",
       "电话                 object\n",
       "均消费额(￥)           float64\n",
       "消费次数                int64\n",
       "消费总额(￥)           float64\n",
       "最近订单日期     datetime64[ns]\n",
       "客户等级               object\n",
       "客户类型               object\n",
       "店铺                 object\n",
       "dtype: object"
      ]
     },
     "execution_count": 75,
     "metadata": {},
     "output_type": "execute_result"
    }
   ],
   "source": [
    "df.dtypes"
   ]
  },
  {
   "cell_type": "code",
   "execution_count": 85,
   "metadata": {
    "collapsed": false
   },
   "outputs": [],
   "source": [
    "df.ix[df['客户姓名']=='Nan','客户姓名'] = np.nan"
   ]
  },
  {
   "cell_type": "code",
   "execution_count": 89,
   "metadata": {
    "collapsed": false
   },
   "outputs": [],
   "source": [
    "df.ix[df['客户姓名'].isnull(),:].to_csv('没有客户名称.csv',index=False)"
   ]
  },
  {
   "cell_type": "code",
   "execution_count": 91,
   "metadata": {
    "collapsed": false
   },
   "outputs": [],
   "source": [
    "no_name = df.ix[df['客户姓名'].isnull(),:]"
   ]
  },
  {
   "cell_type": "code",
   "execution_count": 97,
   "metadata": {
    "collapsed": false
   },
   "outputs": [
    {
     "name": "stdout",
     "output_type": "stream",
     "text": [
      "<class 'pandas.core.frame.DataFrame'>\n",
      "Int64Index: 7985 entries, 6273 to 141460\n",
      "Data columns (total 14 columns):\n",
      "用户编号       7985 non-null int64\n",
      "客户姓名       0 non-null object\n",
      "邮箱         1 non-null object\n",
      "速卖通账号      0 non-null object\n",
      "国家         73 non-null object\n",
      "手机         0 non-null object\n",
      "电话         0 non-null object\n",
      "均消费额(￥)    7985 non-null float64\n",
      "消费次数       7985 non-null int64\n",
      "消费总额(￥)    7985 non-null float64\n",
      "最近订单日期     7985 non-null datetime64[ns]\n",
      "客户等级       7748 non-null object\n",
      "客户类型       7985 non-null object\n",
      "店铺         0 non-null object\n",
      "dtypes: datetime64[ns](1), float64(2), int64(2), object(9)\n",
      "memory usage: 655.0+ KB\n"
     ]
    }
   ],
   "source": [
    "no_name.info()"
   ]
  },
  {
   "cell_type": "code",
   "execution_count": 98,
   "metadata": {
    "collapsed": false
   },
   "outputs": [
    {
     "name": "stdout",
     "output_type": "stream",
     "text": [
      "<class 'pandas.core.frame.DataFrame'>\n",
      "Int64Index: 135337 entries, 0 to 143321\n",
      "Data columns (total 14 columns):\n",
      "用户编号       135337 non-null int64\n",
      "客户姓名       135337 non-null object\n",
      "邮箱         83390 non-null object\n",
      "速卖通账号      133495 non-null object\n",
      "国家         133751 non-null object\n",
      "手机         101298 non-null object\n",
      "电话         118656 non-null object\n",
      "均消费额(￥)    135337 non-null float64\n",
      "消费次数       135337 non-null int64\n",
      "消费总额(￥)    135337 non-null float64\n",
      "最近订单日期     135337 non-null datetime64[ns]\n",
      "客户等级       74252 non-null object\n",
      "客户类型       135276 non-null object\n",
      "店铺         133525 non-null object\n",
      "dtypes: datetime64[ns](1), float64(2), int64(2), object(9)\n",
      "memory usage: 10.8+ MB\n"
     ]
    }
   ],
   "source": [
    "df = df[df['客户姓名'].notnull()]\n",
    "df.info()"
   ]
  },
  {
   "cell_type": "code",
   "execution_count": 100,
   "metadata": {
    "collapsed": false
   },
   "outputs": [
    {
     "data": {
      "text/plain": [
       "129132"
      ]
     },
     "execution_count": 100,
     "metadata": {},
     "output_type": "execute_result"
    }
   ],
   "source": [
    "len(df['客户姓名'].unique())"
   ]
  },
  {
   "cell_type": "code",
   "execution_count": null,
   "metadata": {
    "collapsed": true
   },
   "outputs": [],
   "source": []
  }
 ],
 "metadata": {
  "anaconda-cloud": {},
  "kernelspec": {
   "display_name": "Python [default]",
   "language": "python",
   "name": "python3"
  },
  "language_info": {
   "codemirror_mode": {
    "name": "ipython",
    "version": 3
   },
   "file_extension": ".py",
   "mimetype": "text/x-python",
   "name": "python",
   "nbconvert_exporter": "python",
   "pygments_lexer": "ipython3",
   "version": "3.5.2"
  }
 },
 "nbformat": 4,
 "nbformat_minor": 1
}
