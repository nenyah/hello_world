{
 "cells": [
  {
   "cell_type": "code",
   "execution_count": 1,
   "metadata": {
    "collapsed": false
   },
   "outputs": [],
   "source": [
    "import pandas as pd\n",
    "import numpy as np\n",
    "from matplotlib import pyplot as plt\n",
    "%matplotlib inline"
   ]
  },
  {
   "cell_type": "code",
   "execution_count": 2,
   "metadata": {
    "collapsed": true
   },
   "outputs": [],
   "source": [
    "path = r\"C:\\Users\\steve\\Desktop\\Temp\\Product+Analysis 20170418.xls\""
   ]
  },
  {
   "cell_type": "code",
   "execution_count": 3,
   "metadata": {
    "collapsed": true
   },
   "outputs": [],
   "source": [
    "df = pd.read_excel(path)"
   ]
  },
  {
   "cell_type": "code",
   "execution_count": 4,
   "metadata": {
    "collapsed": false
   },
   "outputs": [
    {
     "data": {
      "text/plain": [
       "(643, 26)"
      ]
     },
     "execution_count": 4,
     "metadata": {},
     "output_type": "execute_result"
    }
   ],
   "source": [
    "df.shape"
   ]
  },
  {
   "cell_type": "code",
   "execution_count": 5,
   "metadata": {
    "collapsed": true
   },
   "outputs": [],
   "source": [
    "df_total = df[df['平台'] == \"TOTAL\"]"
   ]
  },
  {
   "cell_type": "code",
   "execution_count": 6,
   "metadata": {
    "collapsed": false
   },
   "outputs": [
    {
     "data": {
      "text/plain": [
       "(328, 26)"
      ]
     },
     "execution_count": 6,
     "metadata": {},
     "output_type": "execute_result"
    }
   ],
   "source": [
    "df_total.shape"
   ]
  },
  {
   "cell_type": "code",
   "execution_count": 7,
   "metadata": {
    "collapsed": true
   },
   "outputs": [
    {
     "data": {
      "text/html": [
       "<div>\n",
       "<table border=\"1\" class=\"dataframe\">\n",
       "  <thead>\n",
       "    <tr style=\"text-align: right;\">\n",
       "      <th></th>\n",
       "      <th>商品ID</th>\n",
       "      <th>老买家支付买家数</th>\n",
       "      <th>老买家下单买家数</th>\n",
       "      <th>老买家支付金额</th>\n",
       "      <th>老买家支付订单数</th>\n",
       "      <th>老买家下单订单数</th>\n",
       "      <th>老买家商品页访客数</th>\n",
       "      <th>搜索曝光量</th>\n",
       "      <th>商品页浏览量</th>\n",
       "      <th>商品页访客数</th>\n",
       "      <th>...</th>\n",
       "      <th>加收藏夹人数</th>\n",
       "      <th>下单买家数</th>\n",
       "      <th>下单订单数</th>\n",
       "      <th>支付买家数</th>\n",
       "      <th>支付订单数</th>\n",
       "      <th>支付金额</th>\n",
       "      <th>风控订单数</th>\n",
       "      <th>风控金额</th>\n",
       "      <th>退款金额</th>\n",
       "      <th>退款订单数</th>\n",
       "    </tr>\n",
       "  </thead>\n",
       "  <tbody>\n",
       "    <tr>\n",
       "      <th>count</th>\n",
       "      <td>3.280000e+02</td>\n",
       "      <td>328.000000</td>\n",
       "      <td>328.000000</td>\n",
       "      <td>328.000000</td>\n",
       "      <td>328.000000</td>\n",
       "      <td>328.000000</td>\n",
       "      <td>328.000000</td>\n",
       "      <td>328.000000</td>\n",
       "      <td>328.000000</td>\n",
       "      <td>328.000000</td>\n",
       "      <td>...</td>\n",
       "      <td>328.000000</td>\n",
       "      <td>328.000000</td>\n",
       "      <td>328.000000</td>\n",
       "      <td>328.000000</td>\n",
       "      <td>328.000000</td>\n",
       "      <td>328.000000</td>\n",
       "      <td>328.000000</td>\n",
       "      <td>328.000000</td>\n",
       "      <td>328.000000</td>\n",
       "      <td>328.000000</td>\n",
       "    </tr>\n",
       "    <tr>\n",
       "      <th>mean</th>\n",
       "      <td>3.162905e+10</td>\n",
       "      <td>0.128049</td>\n",
       "      <td>0.125000</td>\n",
       "      <td>2.651067</td>\n",
       "      <td>0.131098</td>\n",
       "      <td>0.128049</td>\n",
       "      <td>5.000000</td>\n",
       "      <td>1736.704268</td>\n",
       "      <td>115.713415</td>\n",
       "      <td>78.859756</td>\n",
       "      <td>...</td>\n",
       "      <td>2.743902</td>\n",
       "      <td>1.149390</td>\n",
       "      <td>1.201220</td>\n",
       "      <td>1.027439</td>\n",
       "      <td>1.042683</td>\n",
       "      <td>16.212317</td>\n",
       "      <td>0.015244</td>\n",
       "      <td>0.159177</td>\n",
       "      <td>0.945122</td>\n",
       "      <td>0.054878</td>\n",
       "    </tr>\n",
       "    <tr>\n",
       "      <th>std</th>\n",
       "      <td>5.550847e+09</td>\n",
       "      <td>0.755453</td>\n",
       "      <td>0.733379</td>\n",
       "      <td>16.416853</td>\n",
       "      <td>0.780815</td>\n",
       "      <td>0.755453</td>\n",
       "      <td>14.645453</td>\n",
       "      <td>4210.501015</td>\n",
       "      <td>302.536540</td>\n",
       "      <td>193.412613</td>\n",
       "      <td>...</td>\n",
       "      <td>8.793674</td>\n",
       "      <td>4.407972</td>\n",
       "      <td>4.584484</td>\n",
       "      <td>4.077518</td>\n",
       "      <td>4.132145</td>\n",
       "      <td>58.729492</td>\n",
       "      <td>0.122709</td>\n",
       "      <td>1.689663</td>\n",
       "      <td>7.172663</td>\n",
       "      <td>0.371015</td>\n",
       "    </tr>\n",
       "    <tr>\n",
       "      <th>min</th>\n",
       "      <td>1.387559e+09</td>\n",
       "      <td>0.000000</td>\n",
       "      <td>0.000000</td>\n",
       "      <td>0.000000</td>\n",
       "      <td>0.000000</td>\n",
       "      <td>0.000000</td>\n",
       "      <td>0.000000</td>\n",
       "      <td>0.000000</td>\n",
       "      <td>0.000000</td>\n",
       "      <td>0.000000</td>\n",
       "      <td>...</td>\n",
       "      <td>0.000000</td>\n",
       "      <td>0.000000</td>\n",
       "      <td>0.000000</td>\n",
       "      <td>0.000000</td>\n",
       "      <td>0.000000</td>\n",
       "      <td>0.000000</td>\n",
       "      <td>0.000000</td>\n",
       "      <td>0.000000</td>\n",
       "      <td>0.000000</td>\n",
       "      <td>0.000000</td>\n",
       "    </tr>\n",
       "    <tr>\n",
       "      <th>25%</th>\n",
       "      <td>3.259828e+10</td>\n",
       "      <td>0.000000</td>\n",
       "      <td>0.000000</td>\n",
       "      <td>0.000000</td>\n",
       "      <td>0.000000</td>\n",
       "      <td>0.000000</td>\n",
       "      <td>0.000000</td>\n",
       "      <td>305.250000</td>\n",
       "      <td>14.000000</td>\n",
       "      <td>11.000000</td>\n",
       "      <td>...</td>\n",
       "      <td>0.000000</td>\n",
       "      <td>0.000000</td>\n",
       "      <td>0.000000</td>\n",
       "      <td>0.000000</td>\n",
       "      <td>0.000000</td>\n",
       "      <td>0.000000</td>\n",
       "      <td>0.000000</td>\n",
       "      <td>0.000000</td>\n",
       "      <td>0.000000</td>\n",
       "      <td>0.000000</td>\n",
       "    </tr>\n",
       "    <tr>\n",
       "      <th>50%</th>\n",
       "      <td>3.270730e+10</td>\n",
       "      <td>0.000000</td>\n",
       "      <td>0.000000</td>\n",
       "      <td>0.000000</td>\n",
       "      <td>0.000000</td>\n",
       "      <td>0.000000</td>\n",
       "      <td>1.000000</td>\n",
       "      <td>621.500000</td>\n",
       "      <td>31.000000</td>\n",
       "      <td>23.000000</td>\n",
       "      <td>...</td>\n",
       "      <td>0.000000</td>\n",
       "      <td>0.000000</td>\n",
       "      <td>0.000000</td>\n",
       "      <td>0.000000</td>\n",
       "      <td>0.000000</td>\n",
       "      <td>0.000000</td>\n",
       "      <td>0.000000</td>\n",
       "      <td>0.000000</td>\n",
       "      <td>0.000000</td>\n",
       "      <td>0.000000</td>\n",
       "    </tr>\n",
       "    <tr>\n",
       "      <th>75%</th>\n",
       "      <td>3.273295e+10</td>\n",
       "      <td>0.000000</td>\n",
       "      <td>0.000000</td>\n",
       "      <td>0.000000</td>\n",
       "      <td>0.000000</td>\n",
       "      <td>0.000000</td>\n",
       "      <td>4.000000</td>\n",
       "      <td>1358.500000</td>\n",
       "      <td>82.250000</td>\n",
       "      <td>55.250000</td>\n",
       "      <td>...</td>\n",
       "      <td>2.000000</td>\n",
       "      <td>1.000000</td>\n",
       "      <td>1.000000</td>\n",
       "      <td>1.000000</td>\n",
       "      <td>1.000000</td>\n",
       "      <td>6.302500</td>\n",
       "      <td>0.000000</td>\n",
       "      <td>0.000000</td>\n",
       "      <td>0.000000</td>\n",
       "      <td>0.000000</td>\n",
       "    </tr>\n",
       "    <tr>\n",
       "      <th>max</th>\n",
       "      <td>3.280508e+10</td>\n",
       "      <td>11.000000</td>\n",
       "      <td>11.000000</td>\n",
       "      <td>218.580000</td>\n",
       "      <td>11.000000</td>\n",
       "      <td>11.000000</td>\n",
       "      <td>181.000000</td>\n",
       "      <td>50543.000000</td>\n",
       "      <td>2634.000000</td>\n",
       "      <td>1667.000000</td>\n",
       "      <td>...</td>\n",
       "      <td>87.000000</td>\n",
       "      <td>45.000000</td>\n",
       "      <td>46.000000</td>\n",
       "      <td>42.000000</td>\n",
       "      <td>42.000000</td>\n",
       "      <td>501.780000</td>\n",
       "      <td>1.000000</td>\n",
       "      <td>27.080000</td>\n",
       "      <td>106.600000</td>\n",
       "      <td>5.000000</td>\n",
       "    </tr>\n",
       "  </tbody>\n",
       "</table>\n",
       "<p>8 rows × 24 columns</p>\n",
       "</div>"
      ],
      "text/plain": [
       "               商品ID    老买家支付买家数    老买家下单买家数     老买家支付金额    老买家支付订单数  \\\n",
       "count  3.280000e+02  328.000000  328.000000  328.000000  328.000000   \n",
       "mean   3.162905e+10    0.128049    0.125000    2.651067    0.131098   \n",
       "std    5.550847e+09    0.755453    0.733379   16.416853    0.780815   \n",
       "min    1.387559e+09    0.000000    0.000000    0.000000    0.000000   \n",
       "25%    3.259828e+10    0.000000    0.000000    0.000000    0.000000   \n",
       "50%    3.270730e+10    0.000000    0.000000    0.000000    0.000000   \n",
       "75%    3.273295e+10    0.000000    0.000000    0.000000    0.000000   \n",
       "max    3.280508e+10   11.000000   11.000000  218.580000   11.000000   \n",
       "\n",
       "         老买家下单订单数   老买家商品页访客数         搜索曝光量       商品页浏览量       商品页访客数  \\\n",
       "count  328.000000  328.000000    328.000000   328.000000   328.000000   \n",
       "mean     0.128049    5.000000   1736.704268   115.713415    78.859756   \n",
       "std      0.755453   14.645453   4210.501015   302.536540   193.412613   \n",
       "min      0.000000    0.000000      0.000000     0.000000     0.000000   \n",
       "25%      0.000000    0.000000    305.250000    14.000000    11.000000   \n",
       "50%      0.000000    1.000000    621.500000    31.000000    23.000000   \n",
       "75%      0.000000    4.000000   1358.500000    82.250000    55.250000   \n",
       "max     11.000000  181.000000  50543.000000  2634.000000  1667.000000   \n",
       "\n",
       "          ...          加收藏夹人数       下单买家数       下单订单数       支付买家数       支付订单数  \\\n",
       "count     ...      328.000000  328.000000  328.000000  328.000000  328.000000   \n",
       "mean      ...        2.743902    1.149390    1.201220    1.027439    1.042683   \n",
       "std       ...        8.793674    4.407972    4.584484    4.077518    4.132145   \n",
       "min       ...        0.000000    0.000000    0.000000    0.000000    0.000000   \n",
       "25%       ...        0.000000    0.000000    0.000000    0.000000    0.000000   \n",
       "50%       ...        0.000000    0.000000    0.000000    0.000000    0.000000   \n",
       "75%       ...        2.000000    1.000000    1.000000    1.000000    1.000000   \n",
       "max       ...       87.000000   45.000000   46.000000   42.000000   42.000000   \n",
       "\n",
       "             支付金额       风控订单数        风控金额        退款金额       退款订单数  \n",
       "count  328.000000  328.000000  328.000000  328.000000  328.000000  \n",
       "mean    16.212317    0.015244    0.159177    0.945122    0.054878  \n",
       "std     58.729492    0.122709    1.689663    7.172663    0.371015  \n",
       "min      0.000000    0.000000    0.000000    0.000000    0.000000  \n",
       "25%      0.000000    0.000000    0.000000    0.000000    0.000000  \n",
       "50%      0.000000    0.000000    0.000000    0.000000    0.000000  \n",
       "75%      6.302500    0.000000    0.000000    0.000000    0.000000  \n",
       "max    501.780000    1.000000   27.080000  106.600000    5.000000  \n",
       "\n",
       "[8 rows x 24 columns]"
      ]
     },
     "execution_count": 7,
     "metadata": {},
     "output_type": "execute_result"
    }
   ],
   "source": [
    "df_total.describe()"
   ]
  },
  {
   "cell_type": "code",
   "execution_count": 9,
   "metadata": {
    "collapsed": false
   },
   "outputs": [
    {
     "name": "stderr",
     "output_type": "stream",
     "text": [
      "d:\\program files\\python\\python35-32\\lib\\site-packages\\ipykernel\\__main__.py:1: SettingWithCopyWarning: \n",
      "A value is trying to be set on a copy of a slice from a DataFrame.\n",
      "Try using .loc[row_indexer,col_indexer] = value instead\n",
      "\n",
      "See the caveats in the documentation: http://pandas.pydata.org/pandas-docs/stable/indexing.html#indexing-view-versus-copy\n",
      "  if __name__ == '__main__':\n",
      "d:\\program files\\python\\python35-32\\lib\\site-packages\\ipykernel\\__main__.py:2: SettingWithCopyWarning: \n",
      "A value is trying to be set on a copy of a slice from a DataFrame.\n",
      "Try using .loc[row_indexer,col_indexer] = value instead\n",
      "\n",
      "See the caveats in the documentation: http://pandas.pydata.org/pandas-docs/stable/indexing.html#indexing-view-versus-copy\n",
      "  from ipykernel import kernelapp as app\n",
      "d:\\program files\\python\\python35-32\\lib\\site-packages\\ipykernel\\__main__.py:3: SettingWithCopyWarning: \n",
      "A value is trying to be set on a copy of a slice from a DataFrame.\n",
      "Try using .loc[row_indexer,col_indexer] = value instead\n",
      "\n",
      "See the caveats in the documentation: http://pandas.pydata.org/pandas-docs/stable/indexing.html#indexing-view-versus-copy\n",
      "  app.launch_new_instance()\n"
     ]
    }
   ],
   "source": [
    "df_total['客单价'] = df['支付金额']/df['支付买家数']\n",
    "df_total['点击率'] = df_total['商品页访客数']/df_total['搜索曝光量']\n",
    "df_total['转化率'] = df_total['支付买家数']/df_total['商品页访客数']"
   ]
  },
  {
   "cell_type": "code",
   "execution_count": 10,
   "metadata": {
    "collapsed": false
   },
   "outputs": [
    {
     "data": {
      "text/plain": [
       "(328, 29)"
      ]
     },
     "execution_count": 10,
     "metadata": {},
     "output_type": "execute_result"
    }
   ],
   "source": [
    "df_total.shape"
   ]
  },
  {
   "cell_type": "code",
   "execution_count": 11,
   "metadata": {
    "collapsed": false
   },
   "outputs": [
    {
     "name": "stderr",
     "output_type": "stream",
     "text": [
      "d:\\program files\\python\\python35-32\\lib\\site-packages\\ipykernel\\__main__.py:1: SettingWithCopyWarning: \n",
      "A value is trying to be set on a copy of a slice from a DataFrame.\n",
      "Try using .loc[row_indexer,col_indexer] = value instead\n",
      "\n",
      "See the caveats in the documentation: http://pandas.pydata.org/pandas-docs/stable/indexing.html#indexing-view-versus-copy\n",
      "  if __name__ == '__main__':\n",
      "d:\\program files\\python\\python35-32\\lib\\site-packages\\ipykernel\\__main__.py:2: SettingWithCopyWarning: \n",
      "A value is trying to be set on a copy of a slice from a DataFrame.\n",
      "Try using .loc[row_indexer,col_indexer] = value instead\n",
      "\n",
      "See the caveats in the documentation: http://pandas.pydata.org/pandas-docs/stable/indexing.html#indexing-view-versus-copy\n",
      "  from ipykernel import kernelapp as app\n"
     ]
    }
   ],
   "source": [
    "df_total['单日访客数'] = df_total['商品页访客数']/7\n",
    "df_total['出单访客数'] = 1/df_total['转化率']\n"
   ]
  },
  {
   "cell_type": "code",
   "execution_count": 12,
   "metadata": {
    "collapsed": false
   },
   "outputs": [
    {
     "data": {
      "text/plain": [
       "(328, 31)"
      ]
     },
     "execution_count": 12,
     "metadata": {},
     "output_type": "execute_result"
    }
   ],
   "source": [
    "df_total.shape"
   ]
  },
  {
   "cell_type": "code",
   "execution_count": 13,
   "metadata": {
    "collapsed": false
   },
   "outputs": [],
   "source": [
    "notNull = df_total['客单价'].notnull()\n",
    "isBigOdds = df_total['单日访客数'] >= df_total['出单访客数']"
   ]
  },
  {
   "cell_type": "code",
   "execution_count": 15,
   "metadata": {
    "collapsed": false
   },
   "outputs": [],
   "source": [
    "df_sale = df_total.copy()[notNull&isBigOdds]"
   ]
  },
  {
   "cell_type": "code",
   "execution_count": 20,
   "metadata": {
    "collapsed": false
   },
   "outputs": [],
   "source": [
    "df_sale.to_csv('./出单机率高的产品.csv',index=False)"
   ]
  },
  {
   "cell_type": "code",
   "execution_count": null,
   "metadata": {
    "collapsed": true
   },
   "outputs": [],
   "source": []
  }
 ],
 "metadata": {
  "kernelspec": {
   "display_name": "Python 3",
   "language": "python",
   "name": "python3"
  },
  "language_info": {
   "codemirror_mode": {
    "name": "ipython",
    "version": 3
   },
   "file_extension": ".py",
   "mimetype": "text/x-python",
   "name": "python",
   "nbconvert_exporter": "python",
   "pygments_lexer": "ipython3",
   "version": "3.5.1"
  }
 },
 "nbformat": 4,
 "nbformat_minor": 0
}
