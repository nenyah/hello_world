{
 "cells": [
  {
   "cell_type": "code",
   "execution_count": 1,
   "metadata": {
    "collapsed": false
   },
   "outputs": [
    {
     "name": "stdout",
     "output_type": "stream",
     "text": [
      "Using matplotlib backend: TkAgg\n",
      "Populating the interactive namespace from numpy and matplotlib\n"
     ]
    }
   ],
   "source": [
    "%pylab\n",
    "import numpy as np\n",
    "import pandas as pd"
   ]
  },
  {
   "cell_type": "code",
   "execution_count": 2,
   "metadata": {
    "collapsed": true
   },
   "outputs": [
    {
     "data": {
      "text/html": [
       "<div>\n",
       "<table border=\"1\" class=\"dataframe\">\n",
       "  <thead>\n",
       "    <tr style=\"text-align: right;\">\n",
       "      <th></th>\n",
       "      <th>用户编号</th>\n",
       "      <th>客户姓名</th>\n",
       "      <th>真实姓名</th>\n",
       "      <th>邮箱</th>\n",
       "      <th>速卖通账号</th>\n",
       "      <th>国家</th>\n",
       "      <th>手机</th>\n",
       "      <th>电话</th>\n",
       "      <th>均消费额(￥)</th>\n",
       "      <th>消费次数</th>\n",
       "      <th>消费总额(￥)</th>\n",
       "      <th>最近订单日期</th>\n",
       "      <th>店铺</th>\n",
       "    </tr>\n",
       "  </thead>\n",
       "  <tbody>\n",
       "    <tr>\n",
       "      <th>0</th>\n",
       "      <td>112329</td>\n",
       "      <td>Rodolfo O Arechiga</td>\n",
       "      <td>NaN</td>\n",
       "      <td>NaN</td>\n",
       "      <td>mx1103152564rxyd</td>\n",
       "      <td>Mexico</td>\n",
       "      <td>6121416881</td>\n",
       "      <td>52-612-1416881</td>\n",
       "      <td>NaN</td>\n",
       "      <td>NaN</td>\n",
       "      <td>NaN</td>\n",
       "      <td>NaN</td>\n",
       "      <td>NH</td>\n",
       "    </tr>\n",
       "    <tr>\n",
       "      <th>1</th>\n",
       "      <td>161176</td>\n",
       "      <td>Sayuri Matsuura</td>\n",
       "      <td>NaN</td>\n",
       "      <td>ddmatsuura.8726@gmail.com</td>\n",
       "      <td>jp1024210953</td>\n",
       "      <td>Japan</td>\n",
       "      <td>09026220304</td>\n",
       "      <td>0276-63-2415</td>\n",
       "      <td>NaN</td>\n",
       "      <td>NaN</td>\n",
       "      <td>NaN</td>\n",
       "      <td>NaN</td>\n",
       "      <td>cn1510967716</td>\n",
       "    </tr>\n",
       "    <tr>\n",
       "      <th>2</th>\n",
       "      <td>161229</td>\n",
       "      <td>RODOLFO DORAZIO</td>\n",
       "      <td>NaN</td>\n",
       "      <td>rudy43c@yahoo.it</td>\n",
       "      <td>us1073957369</td>\n",
       "      <td>Italy</td>\n",
       "      <td>3348141433</td>\n",
       "      <td>39-0872-660074</td>\n",
       "      <td>NaN</td>\n",
       "      <td>NaN</td>\n",
       "      <td>NaN</td>\n",
       "      <td>NaN</td>\n",
       "      <td>cn1501389850</td>\n",
       "    </tr>\n",
       "    <tr>\n",
       "      <th>3</th>\n",
       "      <td>161252</td>\n",
       "      <td>Juanita Castrillon</td>\n",
       "      <td>NaN</td>\n",
       "      <td>juanacastrillon@hotmail.com</td>\n",
       "      <td>co1054529745</td>\n",
       "      <td>Colombia</td>\n",
       "      <td>573103734209</td>\n",
       "      <td>57-4-2681934</td>\n",
       "      <td>NaN</td>\n",
       "      <td>NaN</td>\n",
       "      <td>NaN</td>\n",
       "      <td>NaN</td>\n",
       "      <td>cn1501389850</td>\n",
       "    </tr>\n",
       "    <tr>\n",
       "      <th>4</th>\n",
       "      <td>161336</td>\n",
       "      <td>Jon Ramos</td>\n",
       "      <td>NaN</td>\n",
       "      <td>s3ckzah_004@yahoo.com</td>\n",
       "      <td>us1020069336</td>\n",
       "      <td>Italy</td>\n",
       "      <td>393271932221</td>\n",
       "      <td>39-327-1932221</td>\n",
       "      <td>NaN</td>\n",
       "      <td>NaN</td>\n",
       "      <td>NaN</td>\n",
       "      <td>NaN</td>\n",
       "      <td>NH</td>\n",
       "    </tr>\n",
       "  </tbody>\n",
       "</table>\n",
       "</div>"
      ],
      "text/plain": [
       "     用户编号                客户姓名  真实姓名                           邮箱  \\\n",
       "0  112329  Rodolfo O Arechiga   NaN                          NaN   \n",
       "1  161176     Sayuri Matsuura   NaN    ddmatsuura.8726@gmail.com   \n",
       "2  161229     RODOLFO DORAZIO   NaN             rudy43c@yahoo.it   \n",
       "3  161252  Juanita Castrillon   NaN  juanacastrillon@hotmail.com   \n",
       "4  161336           Jon Ramos   NaN        s3ckzah_004@yahoo.com   \n",
       "\n",
       "              速卖通账号        国家            手机              电话  均消费额(￥)  消费次数  \\\n",
       "0  mx1103152564rxyd    Mexico    6121416881  52-612-1416881      NaN   NaN   \n",
       "1      jp1024210953     Japan   09026220304    0276-63-2415      NaN   NaN   \n",
       "2      us1073957369     Italy    3348141433  39-0872-660074      NaN   NaN   \n",
       "3      co1054529745  Colombia  573103734209    57-4-2681934      NaN   NaN   \n",
       "4      us1020069336     Italy  393271932221  39-327-1932221      NaN   NaN   \n",
       "\n",
       "   消费总额(￥) 最近订单日期            店铺  \n",
       "0      NaN    NaN            NH  \n",
       "1      NaN    NaN  cn1510967716  \n",
       "2      NaN    NaN  cn1501389850  \n",
       "3      NaN    NaN  cn1501389850  \n",
       "4      NaN    NaN            NH  "
      ]
     },
     "execution_count": 2,
     "metadata": {},
     "output_type": "execute_result"
    }
   ],
   "source": [
    "# 读入数据\n",
    "data = pd.read_excel(r\"E:\\Work\\06-Work\\07-Marketing\\Customer Ref\\#1_customer0902.xls\",headers=1,index=0)\n",
    "data.head()"
   ]
  },
  {
   "cell_type": "code",
   "execution_count": 3,
   "metadata": {
    "collapsed": false
   },
   "outputs": [
    {
     "data": {
      "text/plain": [
       "Index(['uid', 'name', 'real_name', 'email', 'ae_acount', 'country', 'cell',\n",
       "       'phone', 'avg_cunsume', 'times_of_consume', 'cunsume', 'latest_date',\n",
       "       'store'],\n",
       "      dtype='object')"
      ]
     },
     "execution_count": 3,
     "metadata": {},
     "output_type": "execute_result"
    }
   ],
   "source": [
    "columns = ['uid','name','real_name','email','ae_acount',\n",
    "            'country','cell','phone','avg_cunsume','times_of_consume','cunsume','latest_date','store']\n",
    "data.columns = columns\n",
    "data.columns"
   ]
  },
  {
   "cell_type": "code",
   "execution_count": 4,
   "metadata": {
    "collapsed": true
   },
   "outputs": [
    {
     "data": {
      "text/html": [
       "<div>\n",
       "<table border=\"1\" class=\"dataframe\">\n",
       "  <thead>\n",
       "    <tr style=\"text-align: right;\">\n",
       "      <th></th>\n",
       "      <th>uid</th>\n",
       "      <th>name</th>\n",
       "      <th>real_name</th>\n",
       "      <th>email</th>\n",
       "      <th>ae_acount</th>\n",
       "      <th>country</th>\n",
       "      <th>cell</th>\n",
       "      <th>phone</th>\n",
       "      <th>avg_cunsume</th>\n",
       "      <th>times_of_consume</th>\n",
       "      <th>cunsume</th>\n",
       "      <th>latest_date</th>\n",
       "      <th>store</th>\n",
       "    </tr>\n",
       "  </thead>\n",
       "  <tbody>\n",
       "    <tr>\n",
       "      <th>0</th>\n",
       "      <td>112329</td>\n",
       "      <td>Rodolfo O Arechiga</td>\n",
       "      <td>NaN</td>\n",
       "      <td>NaN</td>\n",
       "      <td>mx1103152564rxyd</td>\n",
       "      <td>Mexico</td>\n",
       "      <td>6121416881</td>\n",
       "      <td>52-612-1416881</td>\n",
       "      <td>NaN</td>\n",
       "      <td>NaN</td>\n",
       "      <td>NaN</td>\n",
       "      <td>NaN</td>\n",
       "      <td>NH</td>\n",
       "    </tr>\n",
       "    <tr>\n",
       "      <th>1</th>\n",
       "      <td>161176</td>\n",
       "      <td>Sayuri Matsuura</td>\n",
       "      <td>NaN</td>\n",
       "      <td>ddmatsuura.8726@gmail.com</td>\n",
       "      <td>jp1024210953</td>\n",
       "      <td>Japan</td>\n",
       "      <td>09026220304</td>\n",
       "      <td>0276-63-2415</td>\n",
       "      <td>NaN</td>\n",
       "      <td>NaN</td>\n",
       "      <td>NaN</td>\n",
       "      <td>NaN</td>\n",
       "      <td>cn1510967716</td>\n",
       "    </tr>\n",
       "    <tr>\n",
       "      <th>2</th>\n",
       "      <td>161229</td>\n",
       "      <td>RODOLFO DORAZIO</td>\n",
       "      <td>NaN</td>\n",
       "      <td>rudy43c@yahoo.it</td>\n",
       "      <td>us1073957369</td>\n",
       "      <td>Italy</td>\n",
       "      <td>3348141433</td>\n",
       "      <td>39-0872-660074</td>\n",
       "      <td>NaN</td>\n",
       "      <td>NaN</td>\n",
       "      <td>NaN</td>\n",
       "      <td>NaN</td>\n",
       "      <td>cn1501389850</td>\n",
       "    </tr>\n",
       "    <tr>\n",
       "      <th>3</th>\n",
       "      <td>161252</td>\n",
       "      <td>Juanita Castrillon</td>\n",
       "      <td>NaN</td>\n",
       "      <td>juanacastrillon@hotmail.com</td>\n",
       "      <td>co1054529745</td>\n",
       "      <td>Colombia</td>\n",
       "      <td>573103734209</td>\n",
       "      <td>57-4-2681934</td>\n",
       "      <td>NaN</td>\n",
       "      <td>NaN</td>\n",
       "      <td>NaN</td>\n",
       "      <td>NaN</td>\n",
       "      <td>cn1501389850</td>\n",
       "    </tr>\n",
       "    <tr>\n",
       "      <th>4</th>\n",
       "      <td>161336</td>\n",
       "      <td>Jon Ramos</td>\n",
       "      <td>NaN</td>\n",
       "      <td>s3ckzah_004@yahoo.com</td>\n",
       "      <td>us1020069336</td>\n",
       "      <td>Italy</td>\n",
       "      <td>393271932221</td>\n",
       "      <td>39-327-1932221</td>\n",
       "      <td>NaN</td>\n",
       "      <td>NaN</td>\n",
       "      <td>NaN</td>\n",
       "      <td>NaN</td>\n",
       "      <td>NH</td>\n",
       "    </tr>\n",
       "  </tbody>\n",
       "</table>\n",
       "</div>"
      ],
      "text/plain": [
       "      uid                name  real_name                        email  \\\n",
       "0  112329  Rodolfo O Arechiga        NaN                          NaN   \n",
       "1  161176     Sayuri Matsuura        NaN    ddmatsuura.8726@gmail.com   \n",
       "2  161229     RODOLFO DORAZIO        NaN             rudy43c@yahoo.it   \n",
       "3  161252  Juanita Castrillon        NaN  juanacastrillon@hotmail.com   \n",
       "4  161336           Jon Ramos        NaN        s3ckzah_004@yahoo.com   \n",
       "\n",
       "          ae_acount   country          cell           phone  avg_cunsume  \\\n",
       "0  mx1103152564rxyd    Mexico    6121416881  52-612-1416881          NaN   \n",
       "1      jp1024210953     Japan   09026220304    0276-63-2415          NaN   \n",
       "2      us1073957369     Italy    3348141433  39-0872-660074          NaN   \n",
       "3      co1054529745  Colombia  573103734209    57-4-2681934          NaN   \n",
       "4      us1020069336     Italy  393271932221  39-327-1932221          NaN   \n",
       "\n",
       "   times_of_consume  cunsume latest_date         store  \n",
       "0               NaN      NaN         NaN            NH  \n",
       "1               NaN      NaN         NaN  cn1510967716  \n",
       "2               NaN      NaN         NaN  cn1501389850  \n",
       "3               NaN      NaN         NaN  cn1501389850  \n",
       "4               NaN      NaN         NaN            NH  "
      ]
     },
     "execution_count": 4,
     "metadata": {},
     "output_type": "execute_result"
    }
   ],
   "source": [
    "data.head()"
   ]
  },
  {
   "cell_type": "code",
   "execution_count": 6,
   "metadata": {
    "collapsed": true
   },
   "outputs": [
    {
     "data": {
      "text/plain": [
       "uid                   int64\n",
       "name                 object\n",
       "real_name           float64\n",
       "email                object\n",
       "ae_acount            object\n",
       "country              object\n",
       "cell                 object\n",
       "phone                object\n",
       "avg_cunsume         float64\n",
       "times_of_consume    float64\n",
       "cunsume             float64\n",
       "latest_date          object\n",
       "store                object\n",
       "dtype: object"
      ]
     },
     "execution_count": 6,
     "metadata": {},
     "output_type": "execute_result"
    }
   ],
   "source": [
    "data.dtypes"
   ]
  },
  {
   "cell_type": "code",
   "execution_count": 7,
   "metadata": {
    "collapsed": true
   },
   "outputs": [
    {
     "name": "stdout",
     "output_type": "stream",
     "text": [
      "<class 'pandas.core.frame.DataFrame'>\n",
      "RangeIndex: 2717 entries, 0 to 2716\n",
      "Data columns (total 13 columns):\n",
      "uid                 2717 non-null int64\n",
      "name                2371 non-null object\n",
      "real_name           0 non-null float64\n",
      "email               975 non-null object\n",
      "ae_acount           2339 non-null object\n",
      "country             2349 non-null object\n",
      "cell                1805 non-null object\n",
      "phone               2339 non-null object\n",
      "avg_cunsume         2431 non-null float64\n",
      "times_of_consume    2431 non-null float64\n",
      "cunsume             2431 non-null float64\n",
      "latest_date         2431 non-null object\n",
      "store               2339 non-null object\n",
      "dtypes: float64(4), int64(1), object(8)\n",
      "memory usage: 191.1+ KB\n"
     ]
    }
   ],
   "source": [
    "data.info()"
   ]
  },
  {
   "cell_type": "code",
   "execution_count": 15,
   "metadata": {
    "collapsed": true
   },
   "outputs": [
    {
     "data": {
      "text/plain": [
       "0              Rodolfo O Arechiga\n",
       "1                 Sayuri Matsuura\n",
       "2                 RODOLFO DORAZIO\n",
       "3              Juanita Castrillon\n",
       "4                       Jon Ramos\n",
       "5                    erwin meijer\n",
       "6                    Alex Lvovsky\n",
       "7                 josefina andres\n",
       "8                    evgenya bakl\n",
       "9                 Karine Grunberg\n",
       "10           Dilyara Lyaskovskaya\n",
       "11                  ladislav Rebl\n",
       "12      silvia lepuman llanquinao\n",
       "13                      reto wyss\n",
       "14                    douglas lam\n",
       "15                 racheli aouate\n",
       "16      Theresa Benigno-schweider\n",
       "17                luigi agnoletti\n",
       "18                 VINCENT CLAUDE\n",
       "19                kevin Ballenger\n",
       "20                       adri rgl\n",
       "21                            NaN\n",
       "22              MARILDA GONCALVES\n",
       "23                   Leleu Alexis\n",
       "24                     boaz taner\n",
       "25                      Jane Egan\n",
       "26            alejandro rodriguez\n",
       "27                    Carlos Lois\n",
       "28                   Kovacs Csaba\n",
       "29                   Rachel Eldar\n",
       "                  ...            \n",
       "2687          Fiderbaldo Ferreira\n",
       "2688                rukaya dhofar\n",
       "2689                   fabio zasa\n",
       "2690                   Robert Tiu\n",
       "2691               Fernando Meono\n",
       "2692            MARILDA GONCALVES\n",
       "2693     Claudiana Pereira Araujo\n",
       "2694                carlos garcia\n",
       "2695          Aleksandr Demidenko\n",
       "2696                   Georg Nigg\n",
       "2697              Tatiana Cavalin\n",
       "2698             Gennadiy Saburov\n",
       "2699               Kelly Gassaway\n",
       "2700              Karina Jozajtis\n",
       "2701              dennis dijkstra\n",
       "2702              caroline borges\n",
       "2703                   Elsa Bates\n",
       "2704           Ekaterina Chernykh\n",
       "2705                Megan Spencer\n",
       "2706                  Waqas Zafar\n",
       "2707               mizuho Shibata\n",
       "2708               Gilmar Almeida\n",
       "2709                 renan scodro\n",
       "2710                eva nemetzova\n",
       "2711                Brendon Silva\n",
       "2712              AliExpress Zipy\n",
       "2713        Wilton Paulo da Silva\n",
       "2714               AliExpress Zip\n",
       "2715        Jennifer Leann Tucker\n",
       "2716             Damla Marmarisli\n",
       "Name: name, dtype: object"
      ]
     },
     "execution_count": 15,
     "metadata": {},
     "output_type": "execute_result"
    }
   ],
   "source": [
    "data[data.name != None].name"
   ]
  },
  {
   "cell_type": "code",
   "execution_count": null,
   "metadata": {
    "collapsed": true
   },
   "outputs": [],
   "source": []
  }
 ],
 "metadata": {
  "kernelspec": {
   "display_name": "Python 3",
   "language": "python",
   "name": "python3"
  },
  "language_info": {
   "codemirror_mode": {
    "name": "ipython",
    "version": 3
   },
   "file_extension": ".py",
   "mimetype": "text/x-python",
   "name": "python",
   "nbconvert_exporter": "python",
   "pygments_lexer": "ipython3",
   "version": "3.5.1"
  }
 },
 "nbformat": 4,
 "nbformat_minor": 0
}
