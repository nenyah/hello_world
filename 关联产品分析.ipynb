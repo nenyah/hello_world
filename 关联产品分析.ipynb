{
 "cells": [
  {
   "cell_type": "code",
   "execution_count": 1,
   "metadata": {
    "collapsed": true
   },
   "outputs": [],
   "source": [
    "# 导入所需库\n",
    "import re\n",
    "import pandas as pd\n",
    "import numpy as np\n",
    "from matplotlib import pyplot\n",
    "%matplotlib inline"
   ]
  },
  {
   "cell_type": "code",
   "execution_count": 2,
   "metadata": {
    "collapsed": true
   },
   "outputs": [],
   "source": [
    "path = r\"C:\\Users\\steve\\Desktop\\Temp\\20170301_20170401_关联产品研究.xls\""
   ]
  },
  {
   "cell_type": "code",
   "execution_count": 3,
   "metadata": {
    "collapsed": true
   },
   "outputs": [],
   "source": [
    "df = pd.read_excel(path)"
   ]
  },
  {
   "cell_type": "code",
   "execution_count": 4,
   "metadata": {
    "collapsed": true
   },
   "outputs": [
    {
     "data": {
      "text/html": [
       "<div>\n",
       "<table border=\"1\" class=\"dataframe\">\n",
       "  <thead>\n",
       "    <tr style=\"text-align: right;\">\n",
       "      <th></th>\n",
       "      <th>订单号</th>\n",
       "      <th>订单状态</th>\n",
       "      <th>负责人(业务员)</th>\n",
       "      <th>买家名称</th>\n",
       "      <th>买家邮箱</th>\n",
       "      <th>下单时间</th>\n",
       "      <th>付款时间</th>\n",
       "      <th>产品总金额</th>\n",
       "      <th>物流费用</th>\n",
       "      <th>订单金额</th>\n",
       "      <th>...</th>\n",
       "      <th>城市</th>\n",
       "      <th>地址</th>\n",
       "      <th>邮编</th>\n",
       "      <th>联系电话</th>\n",
       "      <th>手机</th>\n",
       "      <th>买家选择物流</th>\n",
       "      <th>发货期限</th>\n",
       "      <th>实际发货物流:运单号</th>\n",
       "      <th>发货时间</th>\n",
       "      <th>确认收货时间</th>\n",
       "    </tr>\n",
       "  </thead>\n",
       "  <tbody>\n",
       "    <tr>\n",
       "      <th>0</th>\n",
       "      <td>502130366832468</td>\n",
       "      <td>等待买家收货</td>\n",
       "      <td>Steven Tan</td>\n",
       "      <td>Sergei Golovko</td>\n",
       "      <td>gsv.nvkz@gmail.com</td>\n",
       "      <td>2017.03.31 23:54</td>\n",
       "      <td>2017.03.31 23:54</td>\n",
       "      <td>8.76</td>\n",
       "      <td>0.0</td>\n",
       "      <td>8.76</td>\n",
       "      <td>...</td>\n",
       "      <td>Novokuznetsk</td>\n",
       "      <td>Radischeva 36\\n44</td>\n",
       "      <td>654086</td>\n",
       "      <td>7-923-6082449</td>\n",
       "      <td>9236082449</td>\n",
       "      <td>AliExpress Standard Shipping\\n</td>\n",
       "      <td>NaN</td>\n",
       "      <td>AliExpress Standard Shipping:RM506220895CN\\n</td>\n",
       "      <td>2017-04-05\\n</td>\n",
       "      <td>NaN</td>\n",
       "    </tr>\n",
       "    <tr>\n",
       "      <th>1</th>\n",
       "      <td>502145896411242</td>\n",
       "      <td>等待买家收货</td>\n",
       "      <td>Steven Tan</td>\n",
       "      <td>Sokolov Alexandr Vladimirovich</td>\n",
       "      <td>caba1977@yandex.ru</td>\n",
       "      <td>2017.03.31 22:48</td>\n",
       "      <td>2017.03.31 22:50</td>\n",
       "      <td>32.30</td>\n",
       "      <td>0.0</td>\n",
       "      <td>32.30</td>\n",
       "      <td>...</td>\n",
       "      <td>Votkinsk</td>\n",
       "      <td>Leningradskaya\\n11-17</td>\n",
       "      <td>427432</td>\n",
       "      <td>8-922-6918212</td>\n",
       "      <td>NaN</td>\n",
       "      <td>AliExpress Standard Shipping\\n</td>\n",
       "      <td>NaN</td>\n",
       "      <td>AliExpress Standard Shipping:RM508512809CN\\n</td>\n",
       "      <td>2017-04-09\\n</td>\n",
       "      <td>NaN</td>\n",
       "    </tr>\n",
       "    <tr>\n",
       "      <th>2</th>\n",
       "      <td>83122993777992</td>\n",
       "      <td>等待买家收货</td>\n",
       "      <td>Steven Tan</td>\n",
       "      <td>Anderson Montoya</td>\n",
       "      <td>amontoya19@gmail.com</td>\n",
       "      <td>2017.03.31 22:07</td>\n",
       "      <td>2017.03.31 22:07</td>\n",
       "      <td>53.30</td>\n",
       "      <td>0.0</td>\n",
       "      <td>53.30</td>\n",
       "      <td>...</td>\n",
       "      <td>Medellin</td>\n",
       "      <td>Calle 19A # 81B - 57\\ntercer piso</td>\n",
       "      <td>050030</td>\n",
       "      <td>+57-054-5854977</td>\n",
       "      <td>3004131858</td>\n",
       "      <td>AliExpress Standard Shipping\\nAliExpress Stand...</td>\n",
       "      <td>NaN</td>\n",
       "      <td>AliExpress Standard Shipping:ML002395133MH\\n</td>\n",
       "      <td>2017-04-04\\n</td>\n",
       "      <td>NaN</td>\n",
       "    </tr>\n",
       "    <tr>\n",
       "      <th>3</th>\n",
       "      <td>83026091174654</td>\n",
       "      <td>等待买家收货</td>\n",
       "      <td>Steven Tan</td>\n",
       "      <td>christina boroday</td>\n",
       "      <td>因买家设置不提供邮件地址，请您通过站内信与买家沟通</td>\n",
       "      <td>2017.03.31 21:18</td>\n",
       "      <td>2017.03.31 21:18</td>\n",
       "      <td>67.04</td>\n",
       "      <td>0.0</td>\n",
       "      <td>67.04</td>\n",
       "      <td>...</td>\n",
       "      <td>Chicoutimi</td>\n",
       "      <td>2639 Rang St-Martin</td>\n",
       "      <td>G7H2W2</td>\n",
       "      <td>null+1null</td>\n",
       "      <td>00000</td>\n",
       "      <td>ePacket\\nePacket\\n</td>\n",
       "      <td>NaN</td>\n",
       "      <td>ePacket:LM348873646CN\\nePacket:LM348873650CN\\n</td>\n",
       "      <td>2017-04-10\\n2017-04-10\\n</td>\n",
       "      <td>NaN</td>\n",
       "    </tr>\n",
       "    <tr>\n",
       "      <th>4</th>\n",
       "      <td>502162592613335</td>\n",
       "      <td>订单结束</td>\n",
       "      <td>Steven Tan</td>\n",
       "      <td>Alex Smit</td>\n",
       "      <td>alex46out@gmail.com</td>\n",
       "      <td>2017.03.31 21:17</td>\n",
       "      <td>NaN</td>\n",
       "      <td>11.90</td>\n",
       "      <td>0.0</td>\n",
       "      <td>11.90</td>\n",
       "      <td>...</td>\n",
       "      <td>Kursk</td>\n",
       "      <td>Sadovaya 3 40</td>\n",
       "      <td>305004</td>\n",
       "      <td>7-4712-701936</td>\n",
       "      <td>79207141763</td>\n",
       "      <td>AliExpress Standard Shipping\\n</td>\n",
       "      <td>NaN</td>\n",
       "      <td>NaN</td>\n",
       "      <td>NaN</td>\n",
       "      <td>2017.04.15 05:41</td>\n",
       "    </tr>\n",
       "  </tbody>\n",
       "</table>\n",
       "<p>5 rows × 27 columns</p>\n",
       "</div>"
      ],
      "text/plain": [
       "               订单号    订单状态    负责人(业务员)                            买家名称  \\\n",
       "0  502130366832468  等待买家收货  Steven Tan                  Sergei Golovko   \n",
       "1  502145896411242  等待买家收货  Steven Tan  Sokolov Alexandr Vladimirovich   \n",
       "2   83122993777992  等待买家收货  Steven Tan                Anderson Montoya   \n",
       "3   83026091174654  等待买家收货  Steven Tan               christina boroday   \n",
       "4  502162592613335    订单结束  Steven Tan                       Alex Smit   \n",
       "\n",
       "                        买家邮箱              下单时间              付款时间  产品总金额  物流费用  \\\n",
       "0         gsv.nvkz@gmail.com  2017.03.31 23:54  2017.03.31 23:54   8.76   0.0   \n",
       "1         caba1977@yandex.ru  2017.03.31 22:48  2017.03.31 22:50  32.30   0.0   \n",
       "2       amontoya19@gmail.com  2017.03.31 22:07  2017.03.31 22:07  53.30   0.0   \n",
       "3  因买家设置不提供邮件地址，请您通过站内信与买家沟通  2017.03.31 21:18  2017.03.31 21:18  67.04   0.0   \n",
       "4        alex46out@gmail.com  2017.03.31 21:17               NaN  11.90   0.0   \n",
       "\n",
       "    订单金额        ...                   城市                                 地址  \\\n",
       "0   8.76        ...         Novokuznetsk                  Radischeva 36\\n44   \n",
       "1  32.30        ...             Votkinsk              Leningradskaya\\n11-17   \n",
       "2  53.30        ...             Medellin  Calle 19A # 81B - 57\\ntercer piso   \n",
       "3  67.04        ...           Chicoutimi                2639 Rang St-Martin   \n",
       "4  11.90        ...                Kursk                      Sadovaya 3 40   \n",
       "\n",
       "       邮编             联系电话           手机  \\\n",
       "0  654086    7-923-6082449   9236082449   \n",
       "1  427432    8-922-6918212          NaN   \n",
       "2  050030  +57-054-5854977   3004131858   \n",
       "3  G7H2W2       null+1null        00000   \n",
       "4  305004    7-4712-701936  79207141763   \n",
       "\n",
       "                                              买家选择物流 发货期限  \\\n",
       "0                     AliExpress Standard Shipping\\n  NaN   \n",
       "1                     AliExpress Standard Shipping\\n  NaN   \n",
       "2  AliExpress Standard Shipping\\nAliExpress Stand...  NaN   \n",
       "3                                 ePacket\\nePacket\\n  NaN   \n",
       "4                     AliExpress Standard Shipping\\n  NaN   \n",
       "\n",
       "                                       实际发货物流:运单号                      发货时间  \\\n",
       "0    AliExpress Standard Shipping:RM506220895CN\\n              2017-04-05\\n   \n",
       "1    AliExpress Standard Shipping:RM508512809CN\\n              2017-04-09\\n   \n",
       "2    AliExpress Standard Shipping:ML002395133MH\\n              2017-04-04\\n   \n",
       "3  ePacket:LM348873646CN\\nePacket:LM348873650CN\\n  2017-04-10\\n2017-04-10\\n   \n",
       "4                                             NaN                       NaN   \n",
       "\n",
       "             确认收货时间  \n",
       "0               NaN  \n",
       "1               NaN  \n",
       "2               NaN  \n",
       "3               NaN  \n",
       "4  2017.04.15 05:41  \n",
       "\n",
       "[5 rows x 27 columns]"
      ]
     },
     "execution_count": 4,
     "metadata": {},
     "output_type": "execute_result"
    }
   ],
   "source": [
    "df.head()"
   ]
  },
  {
   "cell_type": "code",
   "execution_count": 22,
   "metadata": {
    "collapsed": true
   },
   "outputs": [],
   "source": [
    "def getSKU(el):\n",
    "    el = re.findall(r\"商家编码:(.*)\\)\",el)\n",
    "    el = list(set(el))\n",
    "    return el"
   ]
  },
  {
   "cell_type": "code",
   "execution_count": 23,
   "metadata": {
    "collapsed": false
   },
   "outputs": [
    {
     "data": {
      "text/plain": [
       "['MSST086-42', 'MSST086-44']"
      ]
     },
     "execution_count": 23,
     "metadata": {},
     "output_type": "execute_result"
    }
   ],
   "source": [
    "getSKU(df['产品信息'][3])"
   ]
  },
  {
   "cell_type": "code",
   "execution_count": 24,
   "metadata": {
    "collapsed": true
   },
   "outputs": [],
   "source": [
    "df['SKU'] = df['产品信息'].map(getSKU)"
   ]
  },
  {
   "cell_type": "code",
   "execution_count": 25,
   "metadata": {
    "collapsed": false
   },
   "outputs": [
    {
     "data": {
      "text/plain": [
       "0                                               [BARB092]\n",
       "1                                            [MSST086-40]\n",
       "2                                               [BGRB058]\n",
       "3                                [MSST086-42, MSST086-44]\n",
       "4                                               [BKQK106]\n",
       "5                                               [BKQK106]\n",
       "6                                               [BARB053]\n",
       "7                                               [OBDS014]\n",
       "8                                               [BCWP023]\n",
       "9                                            [SSDE139-41]\n",
       "10                                           [SKTN002-30]\n",
       "11                                              [CSRB053]\n",
       "12                                              [CSRB051]\n",
       "13                                              [BLKA033]\n",
       "14                                              [CSOO085]\n",
       "15                                              [CSRB053]\n",
       "16      [DSBC001-35, DSBC001-36, DSBC001-41, DSBC001-3...\n",
       "17                                              [BGRB058]\n",
       "18                                              [BGRB057]\n",
       "19                                              [BKQK106]\n",
       "20                                              [CSRB053]\n",
       "21                                              [BGDY149]\n",
       "22                                           [SSDE139-39]\n",
       "23                                           [MSJN060-41]\n",
       "24                                           [DSBC001-37]\n",
       "25                                              [CSRB051]\n",
       "26                                              [BGRB058]\n",
       "27                                              [CSXD095]\n",
       "28                                              [BKQK144]\n",
       "29                                           [SSDE139-40]\n",
       "                              ...                        \n",
       "2174                                            [BAQK106]\n",
       "2175                             [MSJN060-44, MSJN060-45]\n",
       "2176                                            [BARB091]\n",
       "2177                                            [BKQK106]\n",
       "2178                                            [CSXD095]\n",
       "2179                                         [DSKM033-35]\n",
       "2180                                            [CSRB053]\n",
       "2181                                         [SSKD023-40]\n",
       "2182                                            [CSOO208]\n",
       "2183                                            [BKQK106]\n",
       "2184                                            [BCQK091]\n",
       "2185                                            [BKQK106]\n",
       "2186                                            [BKQK106]\n",
       "2187                                         [DSBC001-38]\n",
       "2188                                         [DSBC001-37]\n",
       "2189                                            [CSOO202]\n",
       "2190                                            [CSOO207]\n",
       "2191                                         [MSST080-43]\n",
       "2192                                         [MSST076-45]\n",
       "2193                                            [BARB050]\n",
       "2194                                            [CSOO208]\n",
       "2195                                         [MSJN003-45]\n",
       "2196                                            [BKQK135]\n",
       "2197                                            [OCMG001]\n",
       "2198                                            [BARB053]\n",
       "2199                                            [OCMG001]\n",
       "2200                                            [OBJF066]\n",
       "2201                                            [CSOO201]\n",
       "2202                                            [CSOO201]\n",
       "2203                                            [CSOO203]\n",
       "Name: SKU, dtype: object"
      ]
     },
     "execution_count": 25,
     "metadata": {},
     "output_type": "execute_result"
    }
   ],
   "source": [
    "df['SKU']"
   ]
  },
  {
   "cell_type": "code",
   "execution_count": 26,
   "metadata": {
    "collapsed": true
   },
   "outputs": [],
   "source": [
    "df['SKU'].to_csv('关联产品研究.csv')"
   ]
  },
  {
   "cell_type": "code",
   "execution_count": null,
   "metadata": {
    "collapsed": true
   },
   "outputs": [],
   "source": []
  }
 ],
 "metadata": {
  "kernelspec": {
   "display_name": "Python 3",
   "language": "python",
   "name": "python3"
  },
  "language_info": {
   "codemirror_mode": {
    "name": "ipython",
    "version": 3
   },
   "file_extension": ".py",
   "mimetype": "text/x-python",
   "name": "python",
   "nbconvert_exporter": "python",
   "pygments_lexer": "ipython3",
   "version": "3.5.1"
  }
 },
 "nbformat": 4,
 "nbformat_minor": 0
}
